{
 "cells": [
  {
   "cell_type": "markdown",
   "metadata": {},
   "source": [
    "# I. Basic Data Structures\n",
    "The basic data structures in Python include <b>tuple, list, string, dictionary</b>. The manipulation of these data structures is summarized in this section. The manipulation technics of the more complex data structure, <b>series, dataframe, and array</b> will be introduced in the subsequent sections!<br/><br/>\n",
    "The data type of variables can be identified with <font color='red'><b>type</b></font> function, i.e. <font color='red'><b>type(variable)</b></font>. Take note that checking the data type of variables might be very helpful in debugging!"
   ]
  },
  {
   "cell_type": "code",
   "execution_count": 26,
   "metadata": {},
   "outputs": [
    {
     "data": {
      "text/plain": [
       "str"
      ]
     },
     "execution_count": 26,
     "metadata": {},
     "output_type": "execute_result"
    }
   ],
   "source": [
    "type('This is a string')"
   ]
  },
  {
   "cell_type": "code",
   "execution_count": 4,
   "metadata": {},
   "outputs": [
    {
     "data": {
      "text/plain": [
       "list"
      ]
     },
     "execution_count": 4,
     "metadata": {},
     "output_type": "execute_result"
    }
   ],
   "source": [
    "type([1, 2, 3])"
   ]
  },
  {
   "cell_type": "markdown",
   "metadata": {},
   "source": [
    "## 1.1 Tuple (not frequently used)\n",
    "1. Tuples are an immutable data structure. The elements in a tuple cannot be altered once it is declared. No element can be added to an existing tuple.<br/>\n",
    "2. Tuples are declared by including the elements within <font color='red'><b>( )</b></font>.<br/>\n",
    "3. Different types of data can be put in a tuple.<br/>\n",
    "4. Element in a tuple can be accessed with index, i.e. <font color='red'><b>tuple(index)</b></font>. Index starts from 0."
   ]
  },
  {
   "cell_type": "markdown",
   "metadata": {},
   "source": [
    "E.g.1 Declare a tuple and access its 2nd element."
   ]
  },
  {
   "cell_type": "code",
   "execution_count": 12,
   "metadata": {},
   "outputs": [
    {
     "data": {
      "text/plain": [
       "'a'"
      ]
     },
     "execution_count": 12,
     "metadata": {},
     "output_type": "execute_result"
    }
   ],
   "source": [
    "x = (1, 'a', 2, 'b')\n",
    "x[1]"
   ]
  },
  {
   "cell_type": "markdown",
   "metadata": {},
   "source": [
    "E.g.2 Unpack a tuple/list into different variables. Make sure the number of values to be unpacked matches the number of variables being assigned."
   ]
  },
  {
   "cell_type": "code",
   "execution_count": 60,
   "metadata": {},
   "outputs": [
    {
     "data": {
      "text/plain": [
       "'Brooks'"
      ]
     },
     "execution_count": 60,
     "metadata": {},
     "output_type": "execute_result"
    }
   ],
   "source": [
    "x = ('Christopher', 'Brooks', 'brooksch@umich.edu')\n",
    "fname, lname, email = x\n",
    "lname"
   ]
  },
  {
   "cell_type": "markdown",
   "metadata": {},
   "source": [
    "## 1.2 List\n",
    "1. Lists are a mutable data structure. It is similar to the vector in R.\n",
    "2. Lists are declared by including the elements within <font color='red'><b>[ ]</b></font>.<br/>\n",
    "3. Different types of data can be put in a list.<br/>\n",
    "4. Element in a list can be accessed with index, i.e. <font color='red'><b>list[index]</b></font>. Index starts from 0.<br/>\n",
    "5. New element can be added to list with the <b>append</b> function, i.e. <font color='red'><b>list.append(new_element)</b></font>.<br/>\n",
    "6. Multiple lists can be concatenated with <b>\"+\"</b> or <b>\"`*`\"</b> operator, i.e. <font color='red'><b>list1 + list2, list `*` n</b></font>.<br/>\n",
    "7. The list elements can be viewed by <font color='red'><b>print(list)</b></font>.<br/>\n",
    "8. The number of elements in a list can be obtained by <font color='red'><b>len(list)</b></font> function.<br/>\n",
    "9. Existence of element in a list can be checked with <b>in</b> operator, i.e. <font color='red'><b>element in list</b></font>."
   ]
  },
  {
   "cell_type": "markdown",
   "metadata": {},
   "source": [
    "E.g.1 Declare a list, append element to list, and print the elements in list."
   ]
  },
  {
   "cell_type": "code",
   "execution_count": 13,
   "metadata": {},
   "outputs": [
    {
     "name": "stdout",
     "output_type": "stream",
     "text": [
      "[1, 'a', 2, 'b', 3.3]\n"
     ]
    }
   ],
   "source": [
    "x = [1, 'a', 2, 'b']\n",
    "y = [] # Declare an empty list\n",
    "x.append(3.3)\n",
    "print(x)"
   ]
  },
  {
   "cell_type": "markdown",
   "metadata": {},
   "source": [
    "E.g.2 Loop through and print each item in the list."
   ]
  },
  {
   "cell_type": "code",
   "execution_count": 16,
   "metadata": {},
   "outputs": [
    {
     "name": "stdout",
     "output_type": "stream",
     "text": [
      "1\n",
      "a\n",
      "2\n",
      "b\n",
      "3.3\n"
     ]
    }
   ],
   "source": [
    "for item in x:\n",
    "    print(item)"
   ]
  },
  {
   "cell_type": "markdown",
   "metadata": {},
   "source": [
    "E.g.3 Loop through each item using the indexing operator."
   ]
  },
  {
   "cell_type": "code",
   "execution_count": 18,
   "metadata": {},
   "outputs": [
    {
     "name": "stdout",
     "output_type": "stream",
     "text": [
      "1\n",
      "a\n",
      "2\n",
      "b\n",
      "3.3\n"
     ]
    }
   ],
   "source": [
    "i = 0\n",
    "while( i != len(x) ):\n",
    "    print(x[i])\n",
    "    i = i + 1"
   ]
  },
  {
   "cell_type": "markdown",
   "metadata": {},
   "source": [
    "E.g.4 Concatenate lists with \"+\" operator."
   ]
  },
  {
   "cell_type": "code",
   "execution_count": 20,
   "metadata": {},
   "outputs": [
    {
     "data": {
      "text/plain": [
       "[1, 2, 3, 4]"
      ]
     },
     "execution_count": 20,
     "metadata": {},
     "output_type": "execute_result"
    }
   ],
   "source": [
    "[1, 2] + [3, 4]"
   ]
  },
  {
   "cell_type": "markdown",
   "metadata": {},
   "source": [
    "E.g.5 Repeat lists \"`*`\" operator."
   ]
  },
  {
   "cell_type": "code",
   "execution_count": 22,
   "metadata": {},
   "outputs": [
    {
     "data": {
      "text/plain": [
       "[1, 1, 1]"
      ]
     },
     "execution_count": 22,
     "metadata": {},
     "output_type": "execute_result"
    }
   ],
   "source": [
    "[1] * 3"
   ]
  },
  {
   "cell_type": "markdown",
   "metadata": {},
   "source": [
    "E.g.6 Check existence of element in a list. A boolean result is returned."
   ]
  },
  {
   "cell_type": "code",
   "execution_count": 24,
   "metadata": {},
   "outputs": [
    {
     "data": {
      "text/plain": [
       "True"
      ]
     },
     "execution_count": 24,
     "metadata": {},
     "output_type": "execute_result"
    }
   ],
   "source": [
    "1 in [1, 2, 3]"
   ]
  },
  {
   "cell_type": "markdown",
   "metadata": {},
   "source": [
    "## 1.3 String (list with character elements)\n",
    "String is considered as a special type of list with character elements. <b>All the list manipulation in Section 1.2 can be applied to strings. The following string slicing manipulations are also applicable to the normal lists.</b> Some string-specific technics include<br/>\n",
    "1. Split a string with <b>split</b> function on specifc character into a list of substrings, i.e. <font color=\"red\"><b>string.split(\"character\")</b></font><br/>\n",
    "2. Convert other data type to string by <font color=\"red\"><b>str(variable)</b></font>."
   ]
  },
  {
   "cell_type": "markdown",
   "metadata": {},
   "source": [
    "E.g.1 Slice string with indexing operator, i.e. <font color=\"red\"><b>string[starting index:stopping index]<b/><font/>"
   ]
  },
  {
   "cell_type": "code",
   "execution_count": 30,
   "metadata": {},
   "outputs": [
    {
     "name": "stdout",
     "output_type": "stream",
     "text": [
      "T\n",
      "T\n",
      "Th\n",
      "g\n",
      "ri\n",
      "Thi\n",
      "s is a string\n"
     ]
    }
   ],
   "source": [
    "x = 'This is a string'\n",
    "print(x[0]) # first character\n",
    "print(x[0:1]) # first character, but we have explicitly set the end character\n",
    "print(x[0:2]) # first two characters\n",
    "print(x[-1]) # last character of the string\n",
    "print(x[-4:-2]) # slice starting from the 4th element from the end and stopping before the 2nd element from the end\n",
    "print(x[:3]) # slice from the beginning of the string and stopping before the 3rd element\n",
    "print(x[3:]) # slice starting from the 3rd element of the string and going all the way to the end"
   ]
  },
  {
   "cell_type": "markdown",
   "metadata": {},
   "source": [
    "E.g.2 Concatenate strings with \"+\" or \"`*`\" operator, check existence of substring with the \"in\" operator."
   ]
  },
  {
   "cell_type": "code",
   "execution_count": 35,
   "metadata": {},
   "outputs": [
    {
     "name": "stdout",
     "output_type": "stream",
     "text": [
      "Christopher Brooks\n",
      "ChristopherChristopherChristopher\n",
      "True\n"
     ]
    }
   ],
   "source": [
    "firstname = 'Christopher'\n",
    "lastname = 'Brooks'\n",
    "\n",
    "print(firstname + ' ' + lastname)\n",
    "print(firstname*3)\n",
    "print('Chris' in firstname)"
   ]
  },
  {
   "cell_type": "markdown",
   "metadata": {},
   "source": [
    "E.g.3 Split string into a list of substrings on space or a specific letter."
   ]
  },
  {
   "cell_type": "code",
   "execution_count": 42,
   "metadata": {},
   "outputs": [
    {
     "name": "stdout",
     "output_type": "stream",
     "text": [
      "['Christopher', 'Arthur', 'Hansen', 'Brooks']\n",
      "Christoph\n",
      "n Brooks\n"
     ]
    }
   ],
   "source": [
    "namelist = 'Christopher Arthur Hansen Brooks'.split()\n",
    "firstname = 'Christopher Arthur Hansen Brooks'.split('e')[0] # [0] selects the first element of the list\n",
    "lastname = 'Christopher Arthur Hansen Brooks'.split('e')[-1] # [-1] selects the last element of the list\n",
    "print(namelist)\n",
    "print(firstname)\n",
    "print(lastname)"
   ]
  },
  {
   "cell_type": "markdown",
   "metadata": {},
   "source": [
    "E.g.4 Convert objects to strings before concatenating."
   ]
  },
  {
   "cell_type": "code",
   "execution_count": 43,
   "metadata": {},
   "outputs": [
    {
     "data": {
      "text/plain": [
       "'Chris2'"
      ]
     },
     "execution_count": 43,
     "metadata": {},
     "output_type": "execute_result"
    }
   ],
   "source": [
    "'Chris' + str(2)"
   ]
  },
  {
   "cell_type": "markdown",
   "metadata": {},
   "source": [
    "## 1.4 Dictionary\n",
    "1. Dictionaries associate keys with values. They are declared by including the pairs of key and value within { }, i.e. <font color=\"red\"><b>dict = {key1: value1, key2: value2}</b></font>.<br/>\n",
    "2. Dictionary value can be accessed with a key, i.e. <font color=\"red\"><b>dict[key1]</b></font>.<br/>\n",
    "3. Dictionary can be extended by providing additional pairs of key and value, i.e. <font color=\"red\"><b>dict[key3] = value3</b></font>.</br>\n",
    "4. Dictionary keys, values, key-value pairs can be accessed by <font color=\"red\"><b>dict.keys(), dict.values(), dict.items()</b></font> respectively."
   ]
  },
  {
   "cell_type": "markdown",
   "metadata": {},
   "source": [
    "E.g.1 Declare a dictionary for names and emails, access the email address with given game."
   ]
  },
  {
   "cell_type": "code",
   "execution_count": 44,
   "metadata": {},
   "outputs": [
    {
     "data": {
      "text/plain": [
       "'brooksch@umich.edu'"
      ]
     },
     "execution_count": 44,
     "metadata": {},
     "output_type": "execute_result"
    }
   ],
   "source": [
    "x = {'Christopher Brooks': 'brooksch@umich.edu', 'Bill Gates': 'billg@microsoft.com'}\n",
    "x['Christopher Brooks']"
   ]
  },
  {
   "cell_type": "markdown",
   "metadata": {},
   "source": [
    "E.g.2 Extend the dictionary with additional pair of key and value."
   ]
  },
  {
   "cell_type": "code",
   "execution_count": 56,
   "metadata": {},
   "outputs": [
    {
     "data": {
      "text/plain": [
       "{'Bill Gates': 'billg@microsoft.com',\n",
       " 'Christopher Brooks': 'brooksch@umich.edu',\n",
       " 'Wang Shenghao': 'wangshenghao1993@gmail.com'}"
      ]
     },
     "execution_count": 56,
     "metadata": {},
     "output_type": "execute_result"
    }
   ],
   "source": [
    "x['Wang Shenghao'] = 'wangshenghao1993@gmail.com'\n",
    "x"
   ]
  },
  {
   "cell_type": "markdown",
   "metadata": {},
   "source": [
    "E.g.3 Iterate over all of the names as keys, print each email values."
   ]
  },
  {
   "cell_type": "code",
   "execution_count": 50,
   "metadata": {},
   "outputs": [
    {
     "name": "stdout",
     "output_type": "stream",
     "text": [
      "brooksch@umich.edu\n",
      "billg@microsoft.com\n",
      "wangshenghao1993@gmail.com\n"
     ]
    }
   ],
   "source": [
    "for name in x:\n",
    "    print(x[name])"
   ]
  },
  {
   "cell_type": "markdown",
   "metadata": {},
   "source": [
    "E.g.4 Iterate over all of the email values."
   ]
  },
  {
   "cell_type": "code",
   "execution_count": 52,
   "metadata": {},
   "outputs": [
    {
     "name": "stdout",
     "output_type": "stream",
     "text": [
      "brooksch@umich.edu\n",
      "billg@microsoft.com\n",
      "wangshenghao1993@gmail.com\n"
     ]
    }
   ],
   "source": [
    "for email in x.values():\n",
    "    print(email)"
   ]
  },
  {
   "cell_type": "markdown",
   "metadata": {},
   "source": [
    "E.g.5 Iterate over all of the items (pairs of key and value)"
   ]
  },
  {
   "cell_type": "code",
   "execution_count": 57,
   "metadata": {},
   "outputs": [
    {
     "name": "stdout",
     "output_type": "stream",
     "text": [
      "Christopher Brooks\n",
      "brooksch@umich.edu\n",
      "Bill Gates\n",
      "billg@microsoft.com\n",
      "Wang Shenghao\n",
      "wangshenghao1993@gmail.com\n"
     ]
    }
   ],
   "source": [
    "for name, email in x.items():\n",
    "    print(name)\n",
    "    print(email)"
   ]
  },
  {
   "cell_type": "markdown",
   "metadata": {},
   "source": [
    "# II. Reading and Writing Data Files"
   ]
  },
  {
   "cell_type": "markdown",
   "metadata": {},
   "source": [
    "Data files with different formats can be imported and processed in Python. The common formats include .csv, .xls, .json, .txt. Pandas library is frequently used to load external data files. In addition, after the data is cleaned, it can also be exported in different formats for future use."
   ]
  },
  {
   "cell_type": "markdown",
   "metadata": {
    "collapsed": true
   },
   "source": [
    "## 2.1 Import csv file as dataframe\n",
    "In Python, CSV data can be imported as dataframe or a list of dictionary objects. In the most common case, csv files are read as dataframes with the help of <b>pd.read_csv()</b> function, i.e. <font color=\"red\"><b>df = pd.read_csv('data.csv', skiprows = row # or a list of row #)</b></font>. Note that the <b>read_csv()</b> function can carry multiple parameters besides the file name. <b>skiprows</b> parameter is very useful when some redundant data exists in the CSV file.<br/>\n",
    "<font color=\"red\"><b>If skiprows = n, 1 to n rows of data will be ignored when data is loaded.<br/>\n",
    "If skiprows = [row #], the rows of data in the list will be ignored.</b></font>"
   ]
  },
  {
   "cell_type": "markdown",
   "metadata": {},
   "source": [
    "E.g Load \"world_bank.csv\" as a dataframe and skip the first four rows."
   ]
  },
  {
   "cell_type": "code",
   "execution_count": 3,
   "metadata": {},
   "outputs": [
    {
     "data": {
      "text/html": [
       "<div>\n",
       "<style scoped>\n",
       "    .dataframe tbody tr th:only-of-type {\n",
       "        vertical-align: middle;\n",
       "    }\n",
       "\n",
       "    .dataframe tbody tr th {\n",
       "        vertical-align: top;\n",
       "    }\n",
       "\n",
       "    .dataframe thead th {\n",
       "        text-align: right;\n",
       "    }\n",
       "</style>\n",
       "<table border=\"1\" class=\"dataframe\">\n",
       "  <thead>\n",
       "    <tr style=\"text-align: right;\">\n",
       "      <th></th>\n",
       "      <th>Country Name</th>\n",
       "      <th>Country Code</th>\n",
       "      <th>Indicator Name</th>\n",
       "      <th>Indicator Code</th>\n",
       "      <th>1960</th>\n",
       "      <th>1961</th>\n",
       "      <th>1962</th>\n",
       "      <th>1963</th>\n",
       "      <th>1964</th>\n",
       "      <th>1965</th>\n",
       "      <th>...</th>\n",
       "      <th>2006</th>\n",
       "      <th>2007</th>\n",
       "      <th>2008</th>\n",
       "      <th>2009</th>\n",
       "      <th>2010</th>\n",
       "      <th>2011</th>\n",
       "      <th>2012</th>\n",
       "      <th>2013</th>\n",
       "      <th>2014</th>\n",
       "      <th>2015</th>\n",
       "    </tr>\n",
       "  </thead>\n",
       "  <tbody>\n",
       "    <tr>\n",
       "      <th>0</th>\n",
       "      <td>Aruba</td>\n",
       "      <td>ABW</td>\n",
       "      <td>GDP at market prices (constant 2010 US$)</td>\n",
       "      <td>NY.GDP.MKTP.KD</td>\n",
       "      <td>NaN</td>\n",
       "      <td>NaN</td>\n",
       "      <td>NaN</td>\n",
       "      <td>NaN</td>\n",
       "      <td>NaN</td>\n",
       "      <td>NaN</td>\n",
       "      <td>...</td>\n",
       "      <td>NaN</td>\n",
       "      <td>NaN</td>\n",
       "      <td>NaN</td>\n",
       "      <td>NaN</td>\n",
       "      <td>2.467704e+09</td>\n",
       "      <td>NaN</td>\n",
       "      <td>NaN</td>\n",
       "      <td>NaN</td>\n",
       "      <td>NaN</td>\n",
       "      <td>NaN</td>\n",
       "    </tr>\n",
       "    <tr>\n",
       "      <th>1</th>\n",
       "      <td>Andorra</td>\n",
       "      <td>AND</td>\n",
       "      <td>GDP at market prices (constant 2010 US$)</td>\n",
       "      <td>NY.GDP.MKTP.KD</td>\n",
       "      <td>NaN</td>\n",
       "      <td>NaN</td>\n",
       "      <td>NaN</td>\n",
       "      <td>NaN</td>\n",
       "      <td>NaN</td>\n",
       "      <td>NaN</td>\n",
       "      <td>...</td>\n",
       "      <td>4.018196e+09</td>\n",
       "      <td>4.021331e+09</td>\n",
       "      <td>3.675728e+09</td>\n",
       "      <td>3.535389e+09</td>\n",
       "      <td>3.346317e+09</td>\n",
       "      <td>3.185605e+09</td>\n",
       "      <td>3.129538e+09</td>\n",
       "      <td>3.127550e+09</td>\n",
       "      <td>NaN</td>\n",
       "      <td>NaN</td>\n",
       "    </tr>\n",
       "    <tr>\n",
       "      <th>2</th>\n",
       "      <td>Afghanistan</td>\n",
       "      <td>AFG</td>\n",
       "      <td>GDP at market prices (constant 2010 US$)</td>\n",
       "      <td>NY.GDP.MKTP.KD</td>\n",
       "      <td>NaN</td>\n",
       "      <td>NaN</td>\n",
       "      <td>NaN</td>\n",
       "      <td>NaN</td>\n",
       "      <td>NaN</td>\n",
       "      <td>NaN</td>\n",
       "      <td>...</td>\n",
       "      <td>1.030523e+10</td>\n",
       "      <td>1.172119e+10</td>\n",
       "      <td>1.214448e+10</td>\n",
       "      <td>1.469733e+10</td>\n",
       "      <td>1.593680e+10</td>\n",
       "      <td>1.691113e+10</td>\n",
       "      <td>1.935220e+10</td>\n",
       "      <td>1.973134e+10</td>\n",
       "      <td>1.999032e+10</td>\n",
       "      <td>2.029415e+10</td>\n",
       "    </tr>\n",
       "  </tbody>\n",
       "</table>\n",
       "<p>3 rows × 60 columns</p>\n",
       "</div>"
      ],
      "text/plain": [
       "  Country Name Country Code                            Indicator Name  \\\n",
       "0        Aruba          ABW  GDP at market prices (constant 2010 US$)   \n",
       "1      Andorra          AND  GDP at market prices (constant 2010 US$)   \n",
       "2  Afghanistan          AFG  GDP at market prices (constant 2010 US$)   \n",
       "\n",
       "   Indicator Code  1960  1961  1962  1963  1964  1965      ...       \\\n",
       "0  NY.GDP.MKTP.KD   NaN   NaN   NaN   NaN   NaN   NaN      ...        \n",
       "1  NY.GDP.MKTP.KD   NaN   NaN   NaN   NaN   NaN   NaN      ...        \n",
       "2  NY.GDP.MKTP.KD   NaN   NaN   NaN   NaN   NaN   NaN      ...        \n",
       "\n",
       "           2006          2007          2008          2009          2010  \\\n",
       "0           NaN           NaN           NaN           NaN  2.467704e+09   \n",
       "1  4.018196e+09  4.021331e+09  3.675728e+09  3.535389e+09  3.346317e+09   \n",
       "2  1.030523e+10  1.172119e+10  1.214448e+10  1.469733e+10  1.593680e+10   \n",
       "\n",
       "           2011          2012          2013          2014          2015  \n",
       "0           NaN           NaN           NaN           NaN           NaN  \n",
       "1  3.185605e+09  3.129538e+09  3.127550e+09           NaN           NaN  \n",
       "2  1.691113e+10  1.935220e+10  1.973134e+10  1.999032e+10  2.029415e+10  \n",
       "\n",
       "[3 rows x 60 columns]"
      ]
     },
     "execution_count": 3,
     "metadata": {},
     "output_type": "execute_result"
    }
   ],
   "source": [
    "import pandas as pd\n",
    "\n",
    "df = pd.read_csv('world_bank.csv', skiprows=4)\n",
    "df.head(3)"
   ]
  },
  {
   "cell_type": "markdown",
   "metadata": {},
   "source": [
    "## 2.2 Import csv file as a list of dictionary objects\n",
    "CSV file can also be imported as a list of dictionaries with the <b>DictReader</b> function in the csv library. The function is used in the following manner.\n",
    "<font color=\"red\"><b>with open('data.csv') as csvfile: dictlist = list(csv.DictReader(csvfile))</b></font>"
   ]
  },
  {
   "cell_type": "markdown",
   "metadata": {},
   "source": [
    "E.g This example comes from the course material. Load the data from \"mpg.csv\" as a list of dictionaries, and display the first three dictionary objects."
   ]
  },
  {
   "cell_type": "code",
   "execution_count": 4,
   "metadata": {},
   "outputs": [
    {
     "data": {
      "text/plain": [
       "[OrderedDict([('', '1'),\n",
       "              ('manufacturer', 'audi'),\n",
       "              ('model', 'a4'),\n",
       "              ('displ', '1.8'),\n",
       "              ('year', '1999'),\n",
       "              ('cyl', '4'),\n",
       "              ('trans', 'auto(l5)'),\n",
       "              ('drv', 'f'),\n",
       "              ('cty', '18'),\n",
       "              ('hwy', '29'),\n",
       "              ('fl', 'p'),\n",
       "              ('class', 'compact')]),\n",
       " OrderedDict([('', '2'),\n",
       "              ('manufacturer', 'audi'),\n",
       "              ('model', 'a4'),\n",
       "              ('displ', '1.8'),\n",
       "              ('year', '1999'),\n",
       "              ('cyl', '4'),\n",
       "              ('trans', 'manual(m5)'),\n",
       "              ('drv', 'f'),\n",
       "              ('cty', '21'),\n",
       "              ('hwy', '29'),\n",
       "              ('fl', 'p'),\n",
       "              ('class', 'compact')]),\n",
       " OrderedDict([('', '3'),\n",
       "              ('manufacturer', 'audi'),\n",
       "              ('model', 'a4'),\n",
       "              ('displ', '2'),\n",
       "              ('year', '2008'),\n",
       "              ('cyl', '4'),\n",
       "              ('trans', 'manual(m6)'),\n",
       "              ('drv', 'f'),\n",
       "              ('cty', '20'),\n",
       "              ('hwy', '31'),\n",
       "              ('fl', 'p'),\n",
       "              ('class', 'compact')])]"
      ]
     },
     "execution_count": 4,
     "metadata": {},
     "output_type": "execute_result"
    }
   ],
   "source": [
    "import csv\n",
    "\n",
    "%precision 2\n",
    "\n",
    "with open('mpg.csv') as csvfile:\n",
    "    mpg = list(csv.DictReader(csvfile))\n",
    "    \n",
    "mpg[:3] # The first three dictionaries in our list."
   ]
  },
  {
   "cell_type": "markdown",
   "metadata": {},
   "source": [
    "## 2.3 Import xls file as dataframe\n",
    "Similar to csv files, xls files can be imported with the <b>read_excel()</b> function from the Pandas library. <b>skiprows</b> and <b>skipfooter</b> parameters can be used to ignored the redundant rows of data. Note that it is the <b>no. of rows of data to be skipped at the bottom of the xls file</b> that needs to be assigned to the skipfooter parameter. Since a xls file may contain multiple spreadsheets, sheet name needs to be specified when there are multiple spreadsheets.<br/>\n",
    "<font color=\"red\"><b>df = pd.read_excel('data.xls', sheet_name = 'xxx', skiprows = n1, skipfooter = n2)</b></font>"
   ]
  },
  {
   "cell_type": "markdown",
   "metadata": {},
   "source": [
    "E.g.1 Load the \"Energy\" spreadsheet in \"Energy Indicators.xls\". Skip the first 17 rows at the top and last 38 rows at the bottom of the xls file. Do open the file and carefully observe the format."
   ]
  },
  {
   "cell_type": "code",
   "execution_count": 9,
   "metadata": {},
   "outputs": [
    {
     "data": {
      "text/html": [
       "<div>\n",
       "<style scoped>\n",
       "    .dataframe tbody tr th:only-of-type {\n",
       "        vertical-align: middle;\n",
       "    }\n",
       "\n",
       "    .dataframe tbody tr th {\n",
       "        vertical-align: top;\n",
       "    }\n",
       "\n",
       "    .dataframe thead th {\n",
       "        text-align: right;\n",
       "    }\n",
       "</style>\n",
       "<table border=\"1\" class=\"dataframe\">\n",
       "  <thead>\n",
       "    <tr style=\"text-align: right;\">\n",
       "      <th></th>\n",
       "      <th>Unnamed: 0</th>\n",
       "      <th>Unnamed: 1</th>\n",
       "      <th>Unnamed: 2</th>\n",
       "      <th>Petajoules</th>\n",
       "      <th>Gigajoules</th>\n",
       "      <th>%</th>\n",
       "    </tr>\n",
       "  </thead>\n",
       "  <tbody>\n",
       "    <tr>\n",
       "      <th>0</th>\n",
       "      <td>NaN</td>\n",
       "      <td>Afghanistan</td>\n",
       "      <td>Afghanistan</td>\n",
       "      <td>321</td>\n",
       "      <td>10</td>\n",
       "      <td>78.669280</td>\n",
       "    </tr>\n",
       "    <tr>\n",
       "      <th>1</th>\n",
       "      <td>NaN</td>\n",
       "      <td>Albania</td>\n",
       "      <td>Albania</td>\n",
       "      <td>102</td>\n",
       "      <td>35</td>\n",
       "      <td>100.000000</td>\n",
       "    </tr>\n",
       "    <tr>\n",
       "      <th>2</th>\n",
       "      <td>NaN</td>\n",
       "      <td>Algeria</td>\n",
       "      <td>Algeria</td>\n",
       "      <td>1959</td>\n",
       "      <td>51</td>\n",
       "      <td>0.551010</td>\n",
       "    </tr>\n",
       "    <tr>\n",
       "      <th>3</th>\n",
       "      <td>NaN</td>\n",
       "      <td>American Samoa</td>\n",
       "      <td>American Samoa</td>\n",
       "      <td>...</td>\n",
       "      <td>...</td>\n",
       "      <td>0.641026</td>\n",
       "    </tr>\n",
       "    <tr>\n",
       "      <th>4</th>\n",
       "      <td>NaN</td>\n",
       "      <td>Andorra</td>\n",
       "      <td>Andorra</td>\n",
       "      <td>9</td>\n",
       "      <td>121</td>\n",
       "      <td>88.695650</td>\n",
       "    </tr>\n",
       "  </tbody>\n",
       "</table>\n",
       "</div>"
      ],
      "text/plain": [
       "   Unnamed: 0      Unnamed: 1      Unnamed: 2 Petajoules Gigajoules  \\\n",
       "0         NaN     Afghanistan     Afghanistan        321         10   \n",
       "1         NaN         Albania         Albania        102         35   \n",
       "2         NaN         Algeria         Algeria       1959         51   \n",
       "3         NaN  American Samoa  American Samoa        ...        ...   \n",
       "4         NaN         Andorra         Andorra          9        121   \n",
       "\n",
       "            %  \n",
       "0   78.669280  \n",
       "1  100.000000  \n",
       "2    0.551010  \n",
       "3    0.641026  \n",
       "4   88.695650  "
      ]
     },
     "execution_count": 9,
     "metadata": {},
     "output_type": "execute_result"
    }
   ],
   "source": [
    "df = pd.read_excel('Energy Indicators.xls', sheet_name='Energy', skiprows=17, skipfooter=38)\n",
    "df.head()"
   ]
  },
  {
   "cell_type": "markdown",
   "metadata": {},
   "source": [
    "E.g.2 Load the only spreadsheet in \"gdplev.xls\", and skip the first 5 rows and the 7th, 8th row. Hint: create a list called \"skip\" to save the no. of rows to be ignored."
   ]
  },
  {
   "cell_type": "code",
   "execution_count": 10,
   "metadata": {},
   "outputs": [
    {
     "data": {
      "text/html": [
       "<div>\n",
       "<style scoped>\n",
       "    .dataframe tbody tr th:only-of-type {\n",
       "        vertical-align: middle;\n",
       "    }\n",
       "\n",
       "    .dataframe tbody tr th {\n",
       "        vertical-align: top;\n",
       "    }\n",
       "\n",
       "    .dataframe thead th {\n",
       "        text-align: right;\n",
       "    }\n",
       "</style>\n",
       "<table border=\"1\" class=\"dataframe\">\n",
       "  <thead>\n",
       "    <tr style=\"text-align: right;\">\n",
       "      <th></th>\n",
       "      <th>Unnamed: 0</th>\n",
       "      <th>GDP in billions of current dollars</th>\n",
       "      <th>GDP in billions of chained 2009 dollars</th>\n",
       "      <th>Unnamed: 3</th>\n",
       "      <th>Unnamed: 4</th>\n",
       "      <th>GDP in billions of current dollars.1</th>\n",
       "      <th>GDP in billions of chained 2009 dollars.1</th>\n",
       "      <th>Unnamed: 7</th>\n",
       "    </tr>\n",
       "  </thead>\n",
       "  <tbody>\n",
       "    <tr>\n",
       "      <th>0</th>\n",
       "      <td>1929.0</td>\n",
       "      <td>104.6</td>\n",
       "      <td>1056.6</td>\n",
       "      <td>NaN</td>\n",
       "      <td>1947q1</td>\n",
       "      <td>243.1</td>\n",
       "      <td>1934.5</td>\n",
       "      <td>NaN</td>\n",
       "    </tr>\n",
       "    <tr>\n",
       "      <th>1</th>\n",
       "      <td>1930.0</td>\n",
       "      <td>92.2</td>\n",
       "      <td>966.7</td>\n",
       "      <td>NaN</td>\n",
       "      <td>1947q2</td>\n",
       "      <td>246.3</td>\n",
       "      <td>1932.3</td>\n",
       "      <td>NaN</td>\n",
       "    </tr>\n",
       "    <tr>\n",
       "      <th>2</th>\n",
       "      <td>1931.0</td>\n",
       "      <td>77.4</td>\n",
       "      <td>904.8</td>\n",
       "      <td>NaN</td>\n",
       "      <td>1947q3</td>\n",
       "      <td>250.1</td>\n",
       "      <td>1930.3</td>\n",
       "      <td>NaN</td>\n",
       "    </tr>\n",
       "    <tr>\n",
       "      <th>3</th>\n",
       "      <td>1932.0</td>\n",
       "      <td>59.5</td>\n",
       "      <td>788.2</td>\n",
       "      <td>NaN</td>\n",
       "      <td>1947q4</td>\n",
       "      <td>260.3</td>\n",
       "      <td>1960.7</td>\n",
       "      <td>NaN</td>\n",
       "    </tr>\n",
       "    <tr>\n",
       "      <th>4</th>\n",
       "      <td>1933.0</td>\n",
       "      <td>57.2</td>\n",
       "      <td>778.3</td>\n",
       "      <td>NaN</td>\n",
       "      <td>1948q1</td>\n",
       "      <td>266.2</td>\n",
       "      <td>1989.5</td>\n",
       "      <td>NaN</td>\n",
       "    </tr>\n",
       "  </tbody>\n",
       "</table>\n",
       "</div>"
      ],
      "text/plain": [
       "   Unnamed: 0  GDP in billions of current dollars  \\\n",
       "0      1929.0                               104.6   \n",
       "1      1930.0                                92.2   \n",
       "2      1931.0                                77.4   \n",
       "3      1932.0                                59.5   \n",
       "4      1933.0                                57.2   \n",
       "\n",
       "   GDP in billions of chained 2009 dollars  Unnamed: 3 Unnamed: 4  \\\n",
       "0                                   1056.6         NaN     1947q1   \n",
       "1                                    966.7         NaN     1947q2   \n",
       "2                                    904.8         NaN     1947q3   \n",
       "3                                    788.2         NaN     1947q4   \n",
       "4                                    778.3         NaN     1948q1   \n",
       "\n",
       "   GDP in billions of current dollars.1  \\\n",
       "0                                 243.1   \n",
       "1                                 246.3   \n",
       "2                                 250.1   \n",
       "3                                 260.3   \n",
       "4                                 266.2   \n",
       "\n",
       "   GDP in billions of chained 2009 dollars.1  Unnamed: 7  \n",
       "0                                     1934.5         NaN  \n",
       "1                                     1932.3         NaN  \n",
       "2                                     1930.3         NaN  \n",
       "3                                     1960.7         NaN  \n",
       "4                                     1989.5         NaN  "
      ]
     },
     "execution_count": 10,
     "metadata": {},
     "output_type": "execute_result"
    }
   ],
   "source": [
    "skip = [i for i in range(0, 5)] + [6, 7]\n",
    "df = pd.read_excel(\"gdplev.xls\", skiprows=skip)\n",
    "df.head()"
   ]
  },
  {
   "cell_type": "markdown",
   "metadata": {},
   "source": [
    "## 2.4 Import json file\n",
    "Json files can be loaded as dataframes or lists of objects and converted to other formats of data based on needs.<br/>\n",
    "Import json as dataframe: <font color=\"red\"><b>df = pd.read_json('data.json')</b></font><br/>\n",
    "Import json as list of objects: <font color=\"red\"><b>jsonlist = json.loads(open('data.json').read())</b></font><br/>"
   ]
  },
  {
   "cell_type": "markdown",
   "metadata": {},
   "source": [
    "E.g.1 Read 'crop_top3.json' as a list of objects, and display the list."
   ]
  },
  {
   "cell_type": "code",
   "execution_count": 11,
   "metadata": {},
   "outputs": [
    {
     "data": {
      "text/plain": [
       "[{'error': [],\n",
       "  'method': 'image/recognize',\n",
       "  'reqid': '709980431671578624',\n",
       "  'result': [{'objects': [{'box': [400, 371, 819, 875],\n",
       "      'tags': [{'score': 0.99, 'tag': 'top'}]},\n",
       "     {'box': [306, 885, 880, 1499],\n",
       "      'tags': [{'score': 0.77, 'tag': 'bottom'}]}],\n",
       "    'tag_group': 'product_detection'}],\n",
       "  'status': 'OK'},\n",
       " {'error': [],\n",
       "  'method': 'image/recognize',\n",
       "  'reqid': '709980434926358528',\n",
       "  'result': [{'objects': [{'box': [123, 83, 251, 225],\n",
       "      'tags': [{'score': 0.99, 'tag': 'top'}]},\n",
       "     {'box': [116, 233, 270, 362], 'tags': [{'score': 0.68, 'tag': 'skirt'}]},\n",
       "     {'box': [111, 108, 262, 326], 'tags': [{'score': 0.24, 'tag': 'other'}]}],\n",
       "    'tag_group': 'product_detection'}],\n",
       "  'status': 'OK'},\n",
       " {'error': [],\n",
       "  'method': 'image/recognize',\n",
       "  'reqid': '709980437405196288',\n",
       "  'result': [{'objects': [{'box': [164, 54, 269, 179],\n",
       "      'tags': [{'score': 0.99, 'tag': 'top'}]},\n",
       "     {'box': [142, 168, 285, 369],\n",
       "      'tags': [{'score': 0.78, 'tag': 'bottom'}]}],\n",
       "    'tag_group': 'product_detection'}],\n",
       "  'status': 'OK'}]"
      ]
     },
     "execution_count": 11,
     "metadata": {},
     "output_type": "execute_result"
    }
   ],
   "source": [
    "import json\n",
    "\n",
    "jsonlist = json.loads(open('crop_top3.json').read())\n",
    "jsonlist"
   ]
  },
  {
   "cell_type": "markdown",
   "metadata": {},
   "source": [
    "E.g.2 Read 'crop_top3.json' as a dataframe, and display the dataframe."
   ]
  },
  {
   "cell_type": "code",
   "execution_count": 13,
   "metadata": {},
   "outputs": [
    {
     "data": {
      "text/html": [
       "<div>\n",
       "<style scoped>\n",
       "    .dataframe tbody tr th:only-of-type {\n",
       "        vertical-align: middle;\n",
       "    }\n",
       "\n",
       "    .dataframe tbody tr th {\n",
       "        vertical-align: top;\n",
       "    }\n",
       "\n",
       "    .dataframe thead th {\n",
       "        text-align: right;\n",
       "    }\n",
       "</style>\n",
       "<table border=\"1\" class=\"dataframe\">\n",
       "  <thead>\n",
       "    <tr style=\"text-align: right;\">\n",
       "      <th></th>\n",
       "      <th>error</th>\n",
       "      <th>method</th>\n",
       "      <th>reqid</th>\n",
       "      <th>result</th>\n",
       "      <th>status</th>\n",
       "    </tr>\n",
       "  </thead>\n",
       "  <tbody>\n",
       "    <tr>\n",
       "      <th>0</th>\n",
       "      <td>[]</td>\n",
       "      <td>image/recognize</td>\n",
       "      <td>709980431671578624</td>\n",
       "      <td>[{'objects': [{'box': [400, 371, 819, 875], 't...</td>\n",
       "      <td>OK</td>\n",
       "    </tr>\n",
       "    <tr>\n",
       "      <th>1</th>\n",
       "      <td>[]</td>\n",
       "      <td>image/recognize</td>\n",
       "      <td>709980434926358528</td>\n",
       "      <td>[{'objects': [{'box': [123, 83, 251, 225], 'ta...</td>\n",
       "      <td>OK</td>\n",
       "    </tr>\n",
       "    <tr>\n",
       "      <th>2</th>\n",
       "      <td>[]</td>\n",
       "      <td>image/recognize</td>\n",
       "      <td>709980437405196288</td>\n",
       "      <td>[{'objects': [{'box': [164, 54, 269, 179], 'ta...</td>\n",
       "      <td>OK</td>\n",
       "    </tr>\n",
       "  </tbody>\n",
       "</table>\n",
       "</div>"
      ],
      "text/plain": [
       "  error           method               reqid  \\\n",
       "0    []  image/recognize  709980431671578624   \n",
       "1    []  image/recognize  709980434926358528   \n",
       "2    []  image/recognize  709980437405196288   \n",
       "\n",
       "                                              result status  \n",
       "0  [{'objects': [{'box': [400, 371, 819, 875], 't...     OK  \n",
       "1  [{'objects': [{'box': [123, 83, 251, 225], 'ta...     OK  \n",
       "2  [{'objects': [{'box': [164, 54, 269, 179], 'ta...     OK  "
      ]
     },
     "execution_count": 13,
     "metadata": {},
     "output_type": "execute_result"
    }
   ],
   "source": [
    "df = pd.read_json('crop_top3.json')\n",
    "df"
   ]
  },
  {
   "cell_type": "markdown",
   "metadata": {},
   "source": [
    "## 2.5 Read txt files line by line as lists\n",
    "Txt files can be read with the default <b>readlines()(</b> function after it is opened in Python environment. The txt data would be saved in a list, which can be further converted to dataframe by <b>splittng the data in each row and inserting into dataframe</b>.<br/>\n",
    "Open the .txt file in Python: <font color=\"red\"><b>f = open('data.txt', 'r')</b></font>;<br/>\n",
    "Read the data line by line into a list: <font color=\"red\"><b>txtlist = f.readlines()</b></font>;<br/>\n",
    "Close the .txt file: <font color=\"red\"><b>f = close()</b></font>"
   ]
  },
  {
   "cell_type": "markdown",
   "metadata": {},
   "source": [
    "E.g. Load 'university_towns.txt' as a list, and convert it to a dataframe with two columns 'State' and 'RegionName'."
   ]
  },
  {
   "cell_type": "code",
   "execution_count": 18,
   "metadata": {},
   "outputs": [],
   "source": [
    "f = open('university_towns.txt', 'r')\n",
    "utown_list = f.readlines()\n",
    "f.close()"
   ]
  },
  {
   "cell_type": "code",
   "execution_count": 20,
   "metadata": {},
   "outputs": [
    {
     "data": {
      "text/plain": [
       "['Alabama[edit]\\n',\n",
       " 'Auburn (Auburn University)[1]\\n',\n",
       " 'Florence (University of North Alabama)\\n',\n",
       " 'Jacksonville (Jacksonville State University)[2]\\n',\n",
       " 'Livingston (University of West Alabama)[2]\\n',\n",
       " 'Montevallo (University of Montevallo)[2]\\n',\n",
       " 'Troy (Troy University)[2]\\n',\n",
       " 'Tuscaloosa (University of Alabama, Stillman College, Shelton State)[3][4]\\n',\n",
       " 'Tuskegee (Tuskegee University)[5]\\n',\n",
       " 'Alaska[edit]\\n',\n",
       " 'Fairbanks (University of Alaska Fairbanks)[2]\\n',\n",
       " 'Arizona[edit]\\n',\n",
       " 'Flagstaff (Northern Arizona University)[6]\\n',\n",
       " 'Tempe (Arizona State University)\\n',\n",
       " 'Tucson (University of Arizona)\\n',\n",
       " 'Arkansas[edit]\\n',\n",
       " 'Arkadelphia (Henderson State University, Ouachita Baptist University)[2]\\n',\n",
       " 'Conway (Central Baptist College, Hendrix College, University of Central Arkansas)[2]\\n',\n",
       " 'Fayetteville (University of Arkansas)[7]\\n',\n",
       " 'Jonesboro (Arkansas State University)[8]\\n',\n",
       " 'Magnolia (Southern Arkansas University)[2]\\n',\n",
       " 'Monticello (University of Arkansas at Monticello)[2]\\n',\n",
       " 'Russellville (Arkansas Tech University)[2]\\n',\n",
       " 'Searcy (Harding University)[5]\\n',\n",
       " 'California[edit]\\n',\n",
       " 'Angwin (Pacific Union College)[2]\\n',\n",
       " 'Arcata (Humboldt State University)[5]\\n',\n",
       " 'Berkeley (University of California, Berkeley)[5]\\n',\n",
       " 'Chico (California State University, Chico)[2]\\n',\n",
       " 'Claremont (Claremont McKenna College, Pomona College, Harvey Mudd College, Scripps College, Pitzer College, Keck Graduate Institute, Claremont Graduate University)[5]\\n',\n",
       " 'Cotati (California State University, Sonoma)[2]\\n',\n",
       " 'Davis (University of California, Davis)[1]\\n',\n",
       " 'Irvine (University of California, Irvine)\\n',\n",
       " 'Isla Vista (University of California, Santa Barbara)[2]\\n',\n",
       " 'University Park, Los Angeles (University of Southern California)\\n',\n",
       " 'Merced (University of California, Merced)\\n',\n",
       " 'Orange (Chapman University)\\n',\n",
       " 'Palo Alto (Stanford University)\\n',\n",
       " 'Pomona (Cal Poly Pomona, WesternU)[9][10][11] and formerly Pomona College\\n',\n",
       " 'Redlands (University of Redlands)\\n',\n",
       " 'Riverside (University of California, Riverside, California Baptist University, La Sierra University)\\n',\n",
       " 'Sacramento (California State University, Sacramento)\\n',\n",
       " 'University District, San Bernardino (California State University, San Bernardino, American Sports University)\\n',\n",
       " 'San Diego (University of California, San Diego, San Diego State University)\\n',\n",
       " 'San Luis Obispo (California Polytechnic State University)[2]\\n',\n",
       " 'Santa Barbara (Fielding Graduate University, Santa Barbara City College, University of California, Santa Barbara, Westmont College)[2]\\n',\n",
       " 'Santa Cruz (University of California, Santa Cruz)[2]\\n',\n",
       " 'Turlock (California State University, Stanislaus)\\n',\n",
       " 'Westwood, Los Angeles (University of California, Los Angeles)[2]\\n',\n",
       " 'Whittier (Whittier CollegeRio Hondo College)\\n',\n",
       " 'Colorado[edit]\\n',\n",
       " 'Alamosa (Adams State College)[2]\\n',\n",
       " 'Boulder (University of Colorado at Boulder)[12]\\n',\n",
       " 'Durango (Fort Lewis College)[2]\\n',\n",
       " 'Fort Collins (Colorado State University)[13]\\n',\n",
       " 'Golden (Colorado School of Mines)\\n',\n",
       " 'Grand Junction (Colorado Mesa University)\\n',\n",
       " 'Greeley (University of Northern Colorado)\\n',\n",
       " 'Gunnison (Western State College)[2]\\n',\n",
       " 'Pueblo, Colorado (Colorado State University-Pueblo)\\n',\n",
       " 'Connecticut[edit]\\n',\n",
       " 'Fairfield (Fairfield University, Sacred Heart University)\\n',\n",
       " 'Middletown (Wesleyan University)\\n',\n",
       " 'New Britain (Central Connecticut State University)\\n',\n",
       " 'New Haven (Yale University, University of New Haven, Southern Connecticut State University, Albertus Magnus College, Quinnipiac University)[14]\\n',\n",
       " 'New London (Connecticut College, US Coast Guard Academy, Mitchell College)[2]\\n',\n",
       " 'Storrs (University of Connecticut)[2]\\n',\n",
       " 'Willimantic (Eastern Connecticut State University)[2]\\n',\n",
       " 'Delaware[edit]\\n',\n",
       " 'Dover (Delaware State University)[1]\\n',\n",
       " 'Newark (University of Delaware)[1]\\n',\n",
       " 'Florida[edit]\\n',\n",
       " 'Ave Maria (Ave Maria University)\\n',\n",
       " 'Boca Raton (Florida Atlantic University)\\n',\n",
       " 'Coral Gables (University of Miami)\\n',\n",
       " 'DeLand (Stetson University)[5]\\n',\n",
       " 'Estero (Florida Gulf Coast University)\\n',\n",
       " 'Gainesville (University of Florida, Santa Fe College)\\n',\n",
       " 'Orlando (University of Central Florida)\\n',\n",
       " 'Sarasota (New College of Florida, Ringling College of Art and Design, State College of Florida, Manatee-Sarasota, University of South Florida Sarasota-Manatee)\\n',\n",
       " 'St. Augustine (Flagler College)\\n',\n",
       " 'St. Leo (St. Leo University)\\n',\n",
       " 'Tallahassee (Florida State University, Florida A&M University)\\n',\n",
       " 'Tampa (University of South Florida)\\n',\n",
       " 'Georgia[edit]\\n',\n",
       " 'Albany (Albany State University)\\n',\n",
       " 'Athens (University of Georgia)[15]\\n',\n",
       " 'Atlanta (Georgia State University, Georgia Tech, Emory)[2]\\n',\n",
       " 'Carrollton (University of West Georgia)[2]*Dahlonega (North Georgia College & State University)[2]\\n',\n",
       " 'Demorest (Piedmont College)[2]\\n',\n",
       " 'Fort Valley (Fort Valley State University)[2]\\n',\n",
       " 'Kennesaw (Kennesaw State University)\\n',\n",
       " 'Milledgeville (Georgia College & State University)[2]\\n',\n",
       " 'Mount Vernon (Brewton-Parker College)[2]\\n',\n",
       " 'Oxford (Oxford College)\\n',\n",
       " 'Rome (Berry College, Shorter University)\\n',\n",
       " 'Savannah (Armstrong Atlantic State University, Savannah State University, Savannah College of Art and Design)\\n',\n",
       " 'Statesboro (Georgia Southern University)[5]\\n',\n",
       " 'Valdosta (Valdosta State University)[2]\\n',\n",
       " 'Waleska (Reinhardt College)[2]\\n',\n",
       " 'Young Harris (Young Harris College)[2]\\n',\n",
       " 'Hawaii[edit]\\n',\n",
       " 'Manoa (University of Hawaii at Manoa)[2]\\n',\n",
       " 'Idaho[edit]\\n',\n",
       " 'Moscow (University of Idaho)[2]\\n',\n",
       " 'Pocatello (Idaho State University)[2]\\n',\n",
       " 'Rexburg (BYU-Idaho)[2]\\n',\n",
       " 'Illinois[edit]\\n',\n",
       " 'Carbondale (Southern Illinois University Carbondale)[5]\\n',\n",
       " 'Champaign–Urbana (University of Illinois at Urbana–Champaign)[5]\\n',\n",
       " 'Charleston (Eastern Illinois University)[2]\\n',\n",
       " 'DeKalb (Northern Illinois University)[2]\\n',\n",
       " 'Edwardsville (Southern Illinois University Edwardsville)[2]\\n',\n",
       " 'Evanston (Northwestern University)[2]\\n',\n",
       " 'Lebanon (McKendree University)[2]\\n',\n",
       " 'Macomb (Western Illinois University)[2]\\n',\n",
       " 'Normal (Illinois State University)[2]\\n',\n",
       " 'Peoria (Bradley University)\\n',\n",
       " 'Indiana[edit]\\n',\n",
       " 'Bloomington (Indiana University Bloomington)[5]\\n',\n",
       " 'Crawfordsville (Wabash College)\\n',\n",
       " 'Greencastle (DePauw University)[5]\\n',\n",
       " 'Hanover (Hanover College)[2]\\n',\n",
       " 'Marion (Indiana Wesleyan University)[2]\\n',\n",
       " 'Muncie (Ball State University)[2]\\n',\n",
       " 'Oakland City (Oakland City University)[2]\\n',\n",
       " 'Richmond (Earlham College)[2]\\n',\n",
       " 'South Bend (Notre Dame University[2])\\n',\n",
       " 'Terre Haute (Indiana State University, Rose-Hulman Institute of Technology)[2]\\n',\n",
       " 'Upland (Taylor University)[2]\\n',\n",
       " 'Valparaiso (Valparaiso University)\\n',\n",
       " 'West Lafayette (Purdue University)[2]\\n',\n",
       " 'Iowa[edit]\\n',\n",
       " 'Ames (Iowa State University)[2]\\n',\n",
       " 'Cedar Falls (University of Northern Iowa)[2]\\n',\n",
       " 'Cedar Rapids, Iowa (Coe College )\\n',\n",
       " 'Decorah (Luther College)[5]\\n',\n",
       " 'Fayette (Upper Iowa University)[2]\\n',\n",
       " 'Grinnell (Grinnell College)[15]\\n',\n",
       " 'Iowa City (University of Iowa)[15]\\n',\n",
       " 'Lamoni (Graceland University)[2]\\n',\n",
       " 'Mount Vernon, (Cornell College)\\n',\n",
       " 'Orange City (Northwestern College)[2]\\n',\n",
       " 'Sioux Center (Dordt College)[2]\\n',\n",
       " 'Storm Lake (Buena Vista University)[2]\\n',\n",
       " 'Waverly (Wartburg College)[2]\\n',\n",
       " 'Kansas[edit]\\n',\n",
       " 'Baldwin City (Baker University)[5]\\n',\n",
       " 'Emporia (Emporia State University)[2]\\n',\n",
       " 'Hays (Fort Hays State University)[2]\\n',\n",
       " 'Lawrence (University of Kansas, Haskell Indian Nations University)[15]\\n',\n",
       " 'Manhattan (Kansas State University, Manhattan Christian College)[15]\\n',\n",
       " 'Pittsburg (Pittsburg State University)[2]\\n',\n",
       " 'Kentucky[edit]\\n',\n",
       " 'Bowling Green (Western Kentucky University)[2]\\n',\n",
       " 'Columbia (Lindsey Wilson College)[2]\\n',\n",
       " 'Georgetown (Georgetown College)\\n',\n",
       " 'Highland Heights (Northern Kentucky University)\\n',\n",
       " 'Lexington (University of Kentucky, Transylvania University[5]\\n',\n",
       " 'Louisville (University of Louisville)\\n',\n",
       " 'Morehead (Morehead State University)[2]\\n',\n",
       " 'Murray (Murray State University)[5]\\n',\n",
       " 'Richmond (Eastern Kentucky University)[2]\\n',\n",
       " 'Williamsburg (University of the Cumberlands)[2]\\n',\n",
       " 'Wilmore (Asbury University, Asbury Theological Seminary)[2]\\n',\n",
       " 'Louisiana[edit]\\n',\n",
       " 'Baton Rouge (Louisiana State University, Southern University)\\n',\n",
       " 'Grambling (Grambling State University)[5]\\n',\n",
       " 'Hammond (Southeastern Louisiana University)[2]\\n',\n",
       " 'Lafayette (University of Louisiana at Lafayette)\\n',\n",
       " 'Monroe (University of Louisiana at Monroe)[2]\\n',\n",
       " 'Natchitoches (Northwestern State University)[2]\\n',\n",
       " 'Ruston (Louisiana Tech University)[2]\\n',\n",
       " 'Thibodaux (Nicholls State University)[2]\\n',\n",
       " 'Maine[edit]\\n',\n",
       " 'Augusta (University of Maine at Augusta)[2]\\n',\n",
       " 'Bar Harbor (College of the Atlantic)\\n',\n",
       " 'Brunswick (Bowdoin College)\\n',\n",
       " 'Farmington (University of Maine at Farmington)[2]\\n',\n",
       " 'Fort Kent (University of Maine at Fort Kent)\\n',\n",
       " 'Gorham (University of Southern Maine)[2]\\n',\n",
       " 'Lewiston, Maine (Bates College)\\n',\n",
       " 'Orono (University of Maine)[2]\\n',\n",
       " 'Waterville (Thomas College, Colby College)\\n',\n",
       " 'Maryland[edit]\\n',\n",
       " \"Annapolis (United States Naval Academy, St. John's College)\\n\",\n",
       " 'Chestertown (Washington College)[2]\\n',\n",
       " 'College Park (University of Maryland, College Park)[16]\\n',\n",
       " 'Cumberland (Allegany College of Maryland)\\n',\n",
       " \"Emmitsburg (Mount St. Mary's University)[2]\\n\",\n",
       " 'Frostburg (Frostburg State University)[5]\\n',\n",
       " 'Princess Anne (University of Maryland Eastern Shore)[5]\\n',\n",
       " 'Towson (Towson University, Goucher College)[2]\\n',\n",
       " 'Salisbury (Salisbury University)[2]\\n',\n",
       " 'Westminster (McDaniel College)\\n',\n",
       " 'Massachusetts[edit]\\n',\n",
       " 'Boston (Boston University, Boston College, Boston Conservatory, New England Conservatory, Brandeis University, Northeastern University, UMass Boston, Emmanuel College, Bunker Hill Community College, Roxbury Community College, Suffolk University, Simmons College, among many others)\\n',\n",
       " 'Bridgewater (Bridgewater State College)[2]\\n',\n",
       " 'Cambridge (Harvard University, Massachusetts Institute of Technology)(Lesley University, Cambridge College, Longy School of Music)[15]\\n',\n",
       " 'Chestnut Hill (Boston College)\\n',\n",
       " 'The Colleges of Worcester Consortium:\\n',\n",
       " 'Dudley (Nichols College)\\n',\n",
       " 'North Grafton (Cummings School of Veterinary Medicine at Tufts University)\\n',\n",
       " 'Paxton (Anna Maria College)\\n',\n",
       " 'Worcester (Assumption, Becker, Clark University, Holy Cross, Mass. College of Pharmacy & Health Sciences, Quinsigamond Community College, UMass Medical School, Worcester State University, Worcester Polytechnic Institute)\\n',\n",
       " 'The Five College Region of Western Massachusetts:\\n',\n",
       " 'Amherst (Amherst College, Hampshire College, University of Massachusetts Amherst)[15]\\n',\n",
       " 'Northampton (Smith College)\\n',\n",
       " 'South Hadley (Mount Holyoke College)\\n',\n",
       " 'Fitchburg (Fitchburg State College)\\n',\n",
       " 'North Adams (Massachusetts College of Liberal Arts)\\n',\n",
       " 'Springfield (American International College), (Springfield College), and (Western New England College)\\n',\n",
       " 'Waltham (Bentley University), (Brandeis University)\\n',\n",
       " 'Williamstown (Williams College)\\n',\n",
       " 'Framingham (Framingham State University)\\n',\n",
       " 'Michigan[edit]\\n',\n",
       " 'Adrian (Adrian College, Siena Heights University)\\n',\n",
       " 'Albion (Albion College)[17]\\n',\n",
       " 'Allendale (Grand Valley State University)\\n',\n",
       " 'Alma (Alma College)\\n',\n",
       " 'Ann Arbor (University of Michigan)[1]\\n',\n",
       " 'Berrien Springs (Andrews University)[2]\\n',\n",
       " 'Big Rapids (Ferris State University)[2]\\n',\n",
       " 'East Lansing (Michigan State University)[2]\\n',\n",
       " 'Flint (Kettering University, University of Michigan-Flint)\\n',\n",
       " 'Hillsdale (Hillsdale College)\\n',\n",
       " 'Houghton (Michigan Technological University)[5]\\n',\n",
       " 'Kalamazoo (Western Michigan University, Kalamazoo College)[2]\\n',\n",
       " 'Marquette (Northern Michigan University)[2]\\n',\n",
       " 'Midland (Northwood University)\\n',\n",
       " 'Mount Pleasant (Central Michigan University)[2]\\n',\n",
       " 'Olivet (Olivet College)[2]\\n',\n",
       " 'Saginaw (Saginaw Valley State University)\\n',\n",
       " 'Sault Ste. Marie (Lake Superior State University)\\n',\n",
       " 'Spring Arbor (Spring Arbor University)[2]\\n',\n",
       " 'Ypsilanti (Eastern Michigan University)[2]\\n',\n",
       " 'Minnesota[edit]\\n',\n",
       " 'Bemidji (Bemidji State University)[2]\\n',\n",
       " 'Crookston (University of Minnesota Crookston)[2]\\n',\n",
       " 'Duluth (University of Minnesota Duluth, Lake Superior College, The College of St. Scholastica, University of Wisconsin–Superior, Duluth Business University\\n',\n",
       " 'Faribault, South Central College\\n',\n",
       " 'Mankato (Minnesota State University, Mankato),[2] Bethany Lutheran College\\n',\n",
       " 'Marshall (Southwest Minnesota State University)[2]\\n',\n",
       " 'Moorhead (Minnesota State University, Moorhead, Concordia College)[18]\\n',\n",
       " 'Morris (University of Minnesota Morris)[2]\\n',\n",
       " 'Northfield (Carleton College, St. Olaf College)[5]\\n',\n",
       " 'North Mankato, South Central College\\n',\n",
       " 'St. Cloud (St. Cloud State University, The College of St. Scholastica)[2]\\n',\n",
       " 'St. Joseph (College of Saint Benedict)[2]\\n',\n",
       " 'St. Peter (Gustavus Adolphus College)[2]\\n',\n",
       " \"Winona (Winona State University, St. Mary's University of Minnesota)[19]\\n\",\n",
       " 'Mississippi[edit]\\n',\n",
       " 'Cleveland (Delta State University)[2]\\n',\n",
       " 'Hattiesburg (University of Southern Mississippi)[20]\\n',\n",
       " 'Itta Bena (Mississippi Valley State University)[2]\\n',\n",
       " 'Oxford (University of Mississippi)[2]\\n',\n",
       " 'Starkville (Mississippi State University)[2]\\n',\n",
       " 'Missouri[edit]\\n',\n",
       " 'Bolivar (Southwest Baptist University)[2]\\n',\n",
       " 'Cape Girardeau (Southeast Missouri State University)[2]\\n',\n",
       " 'Columbia (University of Missouri, Stephens College, Columbia College)[20]\\n',\n",
       " 'Fayette (Central Methodist University)[2]\\n',\n",
       " 'Fulton (Westminster College and William Woods University).\\n',\n",
       " 'Kirksville (Truman State University, A. T. Still University)[2]\\n',\n",
       " 'Maryville (Northwest Missouri State University)[2]\\n',\n",
       " 'Rolla (Missouri University of Science and Technology)[2]\\n',\n",
       " 'Warrensburg (University of Central Missouri)[5]\\n',\n",
       " 'Montana[edit]\\n',\n",
       " 'Bozeman (Montana State University)[2]\\n',\n",
       " 'Dillon (University of Montana Western)[2]\\n',\n",
       " 'Missoula (University of Montana)[5]\\n',\n",
       " 'Nebraska[edit]\\n',\n",
       " 'Chadron (Chadron State College)[5]\\n',\n",
       " 'Crete (Doane College)[2]\\n',\n",
       " 'Kearney (University of Nebraska at Kearney)[2]\\n',\n",
       " 'Lincoln (University of Nebraska at Lincoln)[5]\\n',\n",
       " 'Peru (Peru State College)[2]\\n',\n",
       " 'Seward (Concordia University)[2]\\n',\n",
       " 'Wayne (Wayne State College)[2]\\n',\n",
       " 'Nevada[edit]\\n',\n",
       " 'Las Vegas (University of Nevada, Las Vegas)\\n',\n",
       " 'Reno (University of Nevada, Reno)\\n',\n",
       " 'New Hampshire[edit]\\n',\n",
       " 'New London, New Hampshire (Colby-Sawyer College)\\n',\n",
       " 'Durham (University of New Hampshire)[2]\\n',\n",
       " 'Hanover (Dartmouth College)[5]\\n',\n",
       " 'Henniker (New England College)\\n',\n",
       " 'Keene (Keene State College)[2]\\n',\n",
       " 'Plymouth (Plymouth State University)[2]\\n',\n",
       " 'Rindge (Franklin Pierce University)\\n',\n",
       " 'New Jersey[edit]\\n',\n",
       " 'Ewing (The College of New Jersey), (Rider University)\\n',\n",
       " \"Jersey City (New Jersey City University), (Saint Peter's University)\\n\",\n",
       " 'Glassboro (Rowan University)[2]\\n',\n",
       " 'Hoboken (Stevens Institute of Technology)\\n',\n",
       " 'Madison (Drew University), (Fairleigh Dickinson University), (College of Saint Elizabeth)\\n',\n",
       " 'Newark (Rutgers University), (New Jersey Institute of Technology), (UMDNJ)\\n',\n",
       " 'New Brunswick (Rutgers University)[5]\\n',\n",
       " 'Princeton (Princeton University)[5]\\n',\n",
       " 'Union (Kean University)\\n',\n",
       " 'West Long Branch (Monmouth University)\\n',\n",
       " 'New Mexico[edit]\\n',\n",
       " 'Hobbs (University of the Southwest)[2]\\n',\n",
       " 'Las Cruces (New Mexico State University)[2]\\n',\n",
       " 'Las Vegas (New Mexico Highlands University)[2]\\n',\n",
       " 'Portales (Eastern New Mexico University)[2]\\n',\n",
       " 'Silver City (Western New Mexico University)[2]\\n',\n",
       " 'New York[edit]\\n',\n",
       " 'Alfred (Alfred University, Alfred State College)[2]\\n',\n",
       " 'Albany (SUNY Albany, Siena College, Albany College of Pharmacy, Albany Law School, Albany Medical College, College of Saint Rose, Excelsior College, Maria College of Albany, Mildred Elley, Sage College of Albany)\\n',\n",
       " 'Aurora (Wells College)[21]\\n',\n",
       " 'Binghamton (Binghamton University)[2]\\n',\n",
       " 'Brockport (SUNY Brockport)[5]\\n',\n",
       " 'Buffalo (University at Buffalo)\\n',\n",
       " 'Canton (St. Lawrence University, SUNY Canton)[2]\\n',\n",
       " 'Clinton (Hamilton College)[2]\\n',\n",
       " 'Cobleskill (SUNY Cobleskill)[2]\\n',\n",
       " 'Delhi (SUNY Delhi)[2]\\n',\n",
       " 'Fredonia (SUNY Fredonia)[2]\\n',\n",
       " 'Geneseo (SUNY Geneseo)[2]\\n',\n",
       " 'Geneva (Hobart and William Smith Colleges)\\n',\n",
       " 'Hamilton (Colgate University)[2]\\n',\n",
       " 'Ithaca (Cornell University, Ithaca College)[1]\\n',\n",
       " 'Morningside Heights, Manhattan (Columbia University, Barnard College, Teachers College, Manhattan School of Music, Jewish Theological Seminary, Union Theological Seminary, Bank Street College of Education)\\n',\n",
       " 'New Paltz (SUNY New Paltz)[2]\\n',\n",
       " 'Oneonta (SUNY Oneonta, Hartwick College)[2]\\n',\n",
       " 'Oswego (SUNY Oswego)[2]\\n',\n",
       " 'Plattsburgh (SUNY Plattsburgh)[2]\\n',\n",
       " 'Potsdam (SUNY Potsdam, Clarkson University)[2]\\n',\n",
       " 'Poughkeepsie (Vassar College, Marist College)[2]\\n',\n",
       " 'Purchase (Purchase College, Manhattanville College)[2]\\n',\n",
       " 'Rochester (University of Rochester, Rochester Institute of Technology, Nazareth College, St. John Fisher College, Monroe Community College, Roberts Wesleyan College, SUNY Brockport, SUNY Empire State College)[2]\\n',\n",
       " 'Saratoga Springs (Skidmore College)[2]\\n',\n",
       " 'Seneca Falls (New York Chiropractic College)\\n',\n",
       " 'Stony Brook (Stony Brook University)\\n',\n",
       " 'Syracuse (Syracuse University, SUNY ESF, Upstate Medical University)\\n',\n",
       " 'Tivoli (Bard College)\\n',\n",
       " 'Troy (Rensselaer Polytechnic Institute, Russell Sage College, Hudson Valley Community College)\\n',\n",
       " 'West Point (United States Military Academy)\\n',\n",
       " 'North Carolina[edit]\\n',\n",
       " 'Banner Elk (Lees-McRae College)\\n',\n",
       " 'Boiling Springs (Gardner-Webb University)[2]\\n',\n",
       " 'Boone (Appalachian State University)[2]\\n',\n",
       " 'Buies Creek (Campbell University)[2]\\n',\n",
       " 'Chapel Hill (University of North Carolina at Chapel Hill)[20]\\n',\n",
       " 'Cullowhee (Western Carolina University)[2]\\n',\n",
       " 'Davidson (Davidson College)[5]\\n',\n",
       " 'Durham (Duke University, North Carolina Central University)[5]\\n',\n",
       " 'Elon (Elon University)[2]\\n',\n",
       " 'Greensboro (University of North Carolina at Greensboro, Greensboro College, Guilford College, North Carolina A & T State University, Bennett College)\\n',\n",
       " 'Greenville (East Carolina University)[2]\\n',\n",
       " 'Hickory (Lenoir-Rhyne University)[2]\\n',\n",
       " 'Mars Hill (Mars Hill College)[2]\\n',\n",
       " 'Mount Olive (Mount Olive College)[2]\\n',\n",
       " 'Pembroke (University of North Carolina at Pembroke)[2]\\n',\n",
       " 'Wilmington, North Carolina (University of North Carolina at Wilmington)\\n',\n",
       " 'Wingate (Wingate University)[2]\\n',\n",
       " 'Winston-Salem (Wake Forest University, University of North Carolina School of the Arts, Salem College, Winston-Salem State University)\\n',\n",
       " 'North Dakota[edit]\\n',\n",
       " 'Fargo (North Dakota State University)[18]\\n',\n",
       " 'Grand Forks (University of North Dakota)[5]\\n',\n",
       " 'Ohio[edit]\\n',\n",
       " 'Ada (Ohio Northern University)[2]\\n',\n",
       " 'Alliance (University of Mount Union)\\n',\n",
       " 'Ashland (Ashland University)[2]\\n',\n",
       " 'Athens (Ohio University)[2]\\n',\n",
       " 'Berea (Baldwin Wallace College)\\n',\n",
       " 'Bluffton (Bluffton University)[2]\\n',\n",
       " 'Bowling Green (Bowling Green State University)[2]\\n',\n",
       " 'Cedarville (Cedarville University)[2]\\n',\n",
       " 'Columbus (Ohio State University)\\n',\n",
       " 'Delaware (Ohio Wesleyan University)\\n',\n",
       " 'Fairborn (Wright State University)\\n',\n",
       " 'Findlay (University of Findlay)\\n',\n",
       " 'Gambier (Kenyon College)[2]\\n',\n",
       " 'Granville (Denison University)[2]\\n',\n",
       " 'Hiram (Hiram College)[2]\\n',\n",
       " 'Kent (Kent State University)[2]\\n',\n",
       " 'Nelsonville (Hocking College)[2]\\n',\n",
       " 'New Concord (Muskingum College)[2]\\n',\n",
       " 'Oberlin (Oberlin College)[5]\\n',\n",
       " 'Oxford (Miami University)[5]\\n',\n",
       " 'Rio Grande (University of Rio Grande)[2]\\n',\n",
       " 'Wilberforce (Wilberforce University, Central State University)[2]\\n',\n",
       " 'Oklahoma[edit]\\n',\n",
       " 'Ada (East Central University)[2]\\n',\n",
       " 'Alva (Northwestern Oklahoma State University)[2]\\n',\n",
       " 'Durant (Southeastern Oklahoma State University)[2]\\n',\n",
       " 'Edmond (University of Central Oklahoma, Oklahoma Christian University)[2]\\n',\n",
       " 'Goodwell (Oklahoma Panhandle State University)[2]\\n',\n",
       " 'Langston (Langston University)[5]\\n',\n",
       " 'Norman (University of Oklahoma)[1]\\n',\n",
       " 'Stillwater (Oklahoma State University)[5]\\n',\n",
       " 'Tahlequah (Northeastern State University)[2]\\n',\n",
       " 'Tulsa (The University of Tulsa)\\n',\n",
       " 'Weatherford (Southwestern Oklahoma State University)\\n',\n",
       " 'Oregon[edit]\\n',\n",
       " 'Ashland (Southern Oregon University)[2]\\n',\n",
       " 'Corvallis (Oregon State University)[20]\\n',\n",
       " 'Eugene (Lane Community College, Northwest Christian University, University of Oregon)[20]\\n',\n",
       " 'Forest Grove (Pacific University)\\n',\n",
       " 'Klamath Falls (Klamath Community College, Oregon Institute of Technology)\\n',\n",
       " 'La Grande (Eastern Oregon University)[2]\\n',\n",
       " 'Marylhurst (Marylhurst University)\\n',\n",
       " 'McMinnville (Linfield College)\\n',\n",
       " 'Monmouth (Western Oregon University)[2]\\n',\n",
       " 'Newberg (George Fox University)\\n',\n",
       " 'Pennsylvania[edit]\\n',\n",
       " 'Altoona (Penn State Altoona)\\n',\n",
       " 'Annville (Lebanon Valley College)[2]\\n',\n",
       " 'Bethlehem (Lehigh University, Moravian College)\\n',\n",
       " 'Bloomsburg (Bloomsburg University of Pennsylvania)[2]\\n',\n",
       " 'Bradford (University of Pittsburgh at Bradford)\\n',\n",
       " 'California (California University of Pennsylvania)[2]\\n',\n",
       " 'Carlisle (Dickinson College)\\n',\n",
       " 'Cecil B. Moore, Philadelphia, also known as \"Templetown\" (Temple University)\\n',\n",
       " 'Clarion (Clarion University of Pennsylvania)[2]\\n',\n",
       " 'Collegeville (Ursinus College)\\n',\n",
       " 'Cresson (Mount Aloysius College)[2]\\n',\n",
       " 'East Stroudsburg (East Stroudsburg University of Pennsylvania)[2]\\n',\n",
       " 'Edinboro (Edinboro University of Pennsylvania)[2]\\n',\n",
       " 'Erie (Gannon University, Mercyhurst College, Penn State Erie)\\n',\n",
       " 'Gettysburg (Gettysburg College)[2]\\n',\n",
       " 'Greensburg (Seton Hill University, University of Pittsburgh at Greensburg)\\n',\n",
       " 'Grove City (Grove City College)[2]\\n',\n",
       " 'Huntingdon (Juniata College)[2]\\n',\n",
       " 'Indiana (Indiana University of Pennsylvania)[2]\\n',\n",
       " 'Johnstown (University of Pittsburgh at Johnstown)\\n',\n",
       " 'Kutztown (Kutztown University of Pennsylvania)[2]\\n',\n",
       " 'Lancaster (Franklin & Marshall)\\n',\n",
       " 'Lewisburg (Bucknell University)[5]\\n',\n",
       " 'Lock Haven (Lock Haven University of Pennsylvania)[2]\\n',\n",
       " 'Loretto (St. Francis University)[2]\\n',\n",
       " 'Mansfield (Mansfield University of Pennsylvania)[2]\\n',\n",
       " 'Meadville (Allegheny College)\\n',\n",
       " 'Mont Alto (Penn State Mont Alto)\\n',\n",
       " 'Millersville (Millersville University of Pennsylvania)[2]\\n',\n",
       " 'New Wilmington (Westminster College)[2]\\n',\n",
       " 'North East (Mercyhurst North East)\\n',\n",
       " 'University City, Philadelphia (Drexel University, University of Pennsylvania, University of the Sciences in Philadelphia)\\n',\n",
       " 'Oakland, Pittsburgh (Carnegie Mellon University, University of Pittsburgh, Carlow University)\\n',\n",
       " 'Reading (Albright College, Alvernia University, Penn State Berks)\\n',\n",
       " 'Selinsgrove (Susquehanna University)[2]\\n',\n",
       " 'Shippensburg (Shippensburg University of Pennsylvania)[2]\\n',\n",
       " 'Slippery Rock (Slippery Rock University of Pennsylvania)[2]\\n',\n",
       " 'State College (Pennsylvania State University)[22]\\n',\n",
       " 'Villanova (Villanova University)\\n',\n",
       " 'Waynesburg (Waynesburg University)\\n',\n",
       " 'West Chester (West Chester University of Pennsylvania)\\n',\n",
       " \"Wilkes-Barre (King's College, Wilkes University)\\n\",\n",
       " 'Williamsport (Lycoming College, Pennsylvania College of Technology)[2]\\n',\n",
       " 'Rhode Island[edit]\\n',\n",
       " 'Kingston (University of Rhode Island)[2]\\n',\n",
       " 'Providence (Brown University, (University of Rhode Island), Rhode Island School of Design, Johnson and Wales University, Providence College, Community College of Rhode Island, Rhode Island College, and Roger Williams University.)\\n',\n",
       " 'South Carolina[edit]\\n',\n",
       " 'Central (Southern Wesleyan University)[2]\\n',\n",
       " 'Charleston (College of Charleston, The Citadel, MUSC)\\n',\n",
       " 'Clemson (Clemson University)[2]\\n',\n",
       " 'Clinton (Presbyterian College)\\n',\n",
       " 'Columbia (University of South Carolina)[14]\\n',\n",
       " 'Due West (Erskine College)\\n',\n",
       " 'Florence (Francis Marion University)\\n',\n",
       " 'Greenwood (Lander University)\\n',\n",
       " 'Orangeburg (South Carolina State University, Claflin University)[2]\\n',\n",
       " 'Rock Hill (Winthrop University)\\n',\n",
       " 'Spartanburg (Wofford College, Converse College, University of South Carolina Upstate, Spartanburg Methodist College, Edward Via College of Osteopathic Medicine, Spartanburg Community College, Virginia College, Sherman College of Chiropractic)\\n',\n",
       " 'South Dakota[edit]\\n',\n",
       " 'Brookings (South Dakota State University)[2]\\n',\n",
       " 'Madison (Dakota State University)\\n',\n",
       " 'Spearfish (Black Hills State University)\\n',\n",
       " 'Vermillion (University of South Dakota)[5]\\n',\n",
       " 'Tennessee[edit]\\n',\n",
       " 'Chattanooga (University of Tennessee at Chattanooga)\\n',\n",
       " 'Collegedale (Southern Adventist University)\\n',\n",
       " 'Cookeville (Tennessee Technological University)[2]\\n',\n",
       " 'Harrogate (Lincoln Memorial University)[2]\\n',\n",
       " 'Henderson (Freed-Hardeman University)[2]\\n',\n",
       " 'Johnson City (East Tennessee State University)\\n',\n",
       " 'Knoxville (University of Tennessee)\\n',\n",
       " 'Martin (University of Tennessee at Martin)[2]\\n',\n",
       " 'McKenzie (Bethel University)[2]\\n',\n",
       " 'Memphis (Christian Brothers University, LeMoyne-Owen College, Memphis College of Art, Memphis Theological Seminary, Rhodes College, Southern College of Optometry, Southwest Tennessee Community College, University of Memphis, University of Tennessee Health Science Center, Visible Music College)\\n',\n",
       " 'Murfreesboro (Middle Tennessee State University)[2]\\n',\n",
       " 'Nashville (Vanderbilt University, Belmont University, Tennessee State University, Lipscomb University, Fisk University, Aquinas College, Trevecca Nazarene University)\\n',\n",
       " 'Sewanee (Sewanee: the University of the South)[2]\\n',\n",
       " 'Texas[edit]\\n',\n",
       " 'Abilene (Abilene Christian University, Hardin-Simmons University, McMurry University)\\n',\n",
       " 'Alpine (Sul Ross State University)[2]\\n',\n",
       " 'Austin (University of Texas at Austin, St. Edwards University, Huston-Tillotson University)[2]\\n',\n",
       " 'Beaumont (Lamar University)\\n',\n",
       " 'Canyon (West Texas A&M University)[2]\\n',\n",
       " 'College Station (Texas A&M University)[5]\\n',\n",
       " 'Commerce (Texas A&M University–Commerce)[2]\\n',\n",
       " 'Dallas (Southern Methodist University)\\n',\n",
       " \"Denton (University of North Texas, Texas Woman's University)[2]\\n\",\n",
       " 'Fort Worth (Texas Christian University, Texas Wesleyan University)\\n',\n",
       " 'Georgetown (Southwestern University)\\n',\n",
       " 'Huntsville (Sam Houston State University)[2]\\n',\n",
       " 'Houston (University of Houston, Texas Southern University, Rice University, Houston Baptist University)\\n',\n",
       " 'Keene (Southwestern Adventist University)[2]\\n',\n",
       " 'Kingsville (Texas A&M University–Kingsville)[2]\\n',\n",
       " 'Lubbock (Texas Tech University, Lubbock Christian University)\\n',\n",
       " 'Nacogdoches (Stephen F. Austin State University)[2]\\n',\n",
       " 'Plainview (Wayland Baptist University)[2]\\n',\n",
       " 'Prairie View (Prairie View A&M University)[2]\\n',\n",
       " 'San Marcos (Texas State University)[5]\\n',\n",
       " 'Stephenville (Tarleton State University)[2]\\n',\n",
       " 'Waco (Baylor University)\\n',\n",
       " 'Utah[edit]\\n',\n",
       " 'Cedar City (Southern Utah University)[2]\\n',\n",
       " 'Logan (Utah State University)[2]\\n',\n",
       " 'Provo (Brigham Young University)[5]\\n',\n",
       " 'Orem (Utah Valley University)\\n',\n",
       " 'Salt Lake City (University of Utah)\\n',\n",
       " 'Ephraim (Snow College)\\n',\n",
       " 'Vermont[edit]\\n',\n",
       " \"Burlington (University of Vermont, Champlain College and Saint Michael's College)[2]\\n\",\n",
       " 'Castleton (Castleton State College)[2]\\n',\n",
       " 'Johnson (Johnson State College)[2]\\n',\n",
       " 'Lyndonville (Lyndon State College)[2]\\n',\n",
       " 'Middlebury (Middlebury College)[2]\\n',\n",
       " 'Northfield (Norwich University)[2]\\n',\n",
       " 'Virginia[edit]\\n',\n",
       " 'Blacksburg (Virginia Polytechnic Institute and State University)[5]\\n',\n",
       " 'Bridgewater (Bridgewater College)[2]\\n',\n",
       " 'Charlottesville (University of Virginia)[23]\\n',\n",
       " 'Farmville (Longwood University, Hampden-Sydney College)[2]\\n',\n",
       " 'Fredericksburg (University of Mary Washington)[2]\\n',\n",
       " 'Harrisonburg (James Madison University, Eastern Mennonite University)[2]\\n',\n",
       " 'Lexington (Washington and Lee University, Virginia Military Institute)[2]\\n',\n",
       " 'Lynchburg (Lynchburg College, Randolph College, Liberty University, Central Virginia Community College)\\n',\n",
       " 'Radford (Radford University)[2]\\n',\n",
       " 'Williamsburg (The College of William & Mary)[2]\\n',\n",
       " \"Wise (University of Virginia's College at Wise)[2]\\n\",\n",
       " 'Chesapeake (Averett University, DeVry University, Troy University, Tidewater Community College, Strayer University, Everest University, Sentera College of Health Sciences, St Leo University)[2]\\n',\n",
       " 'Washington[edit]\\n',\n",
       " 'Bellingham (Western Washington University)\\n',\n",
       " 'Cheney (Eastern Washington University)[2]\\n',\n",
       " 'Ellensburg (Central Washington University)[5]\\n',\n",
       " 'Pullman (Washington State University)[5]\\n',\n",
       " 'University District, Seattle (University of Washington)[5]\\n',\n",
       " 'West Virginia[edit]\\n',\n",
       " 'Athens (Concord University)[2]\\n',\n",
       " 'Buckhannon (West Virginia Wesleyan College)[2]\\n',\n",
       " 'Fairmont (Fairmont State University)[2]\\n',\n",
       " 'Glenville (Glenville State College)[2]\\n',\n",
       " 'Huntington (Marshall University)[2]\\n',\n",
       " 'Montgomery (West Virginia University Institute of Technology)[2]\\n',\n",
       " 'Morgantown (West Virginia University)[2]\\n',\n",
       " 'Shepherdstown (Shepherd University)[2]\\n',\n",
       " 'West Liberty (West Liberty University)[2]\\n',\n",
       " 'Wisconsin[edit]\\n',\n",
       " 'Appleton (Lawrence University)\\n',\n",
       " 'Eau Claire (University of Wisconsin–Eau Claire)\\n',\n",
       " 'Green Bay (University of Wisconsin-Green Bay)\\n',\n",
       " 'La Crosse (University of Wisconsin–La Crosse, Western Technical College, Viterbo University)[2]\\n',\n",
       " 'Madison (University of Wisconsin–Madison)[2]\\n',\n",
       " 'Menomonie (University of Wisconsin–Stout)[2]\\n',\n",
       " 'Milwaukee (Marquette University, University of Wisconsin–Milwaukee)\\n',\n",
       " 'Oshkosh (University of Wisconsin–Oshkosh)\\n',\n",
       " 'Platteville (University of Wisconsin–Platteville)[2]\\n',\n",
       " 'River Falls (University of Wisconsin–River Falls)[2]\\n',\n",
       " 'Stevens Point (University of Wisconsin–Stevens Point)[2]\\n',\n",
       " 'Waukesha (Carroll University)\\n',\n",
       " 'Whitewater (University of Wisconsin–Whitewater)[2]\\n',\n",
       " 'Wyoming[edit]\\n',\n",
       " 'Laramie (University of Wyoming)[5]\\n']"
      ]
     },
     "execution_count": 20,
     "metadata": {},
     "output_type": "execute_result"
    }
   ],
   "source": [
    "utown_list"
   ]
  },
  {
   "cell_type": "code",
   "execution_count": 23,
   "metadata": {},
   "outputs": [
    {
     "data": {
      "text/html": [
       "<div>\n",
       "<style scoped>\n",
       "    .dataframe tbody tr th:only-of-type {\n",
       "        vertical-align: middle;\n",
       "    }\n",
       "\n",
       "    .dataframe tbody tr th {\n",
       "        vertical-align: top;\n",
       "    }\n",
       "\n",
       "    .dataframe thead th {\n",
       "        text-align: right;\n",
       "    }\n",
       "</style>\n",
       "<table border=\"1\" class=\"dataframe\">\n",
       "  <thead>\n",
       "    <tr style=\"text-align: right;\">\n",
       "      <th></th>\n",
       "      <th>State</th>\n",
       "      <th>RegionName</th>\n",
       "    </tr>\n",
       "  </thead>\n",
       "  <tbody>\n",
       "    <tr>\n",
       "      <th>0</th>\n",
       "      <td>Alabama</td>\n",
       "      <td>Auburn</td>\n",
       "    </tr>\n",
       "    <tr>\n",
       "      <th>1</th>\n",
       "      <td>Alabama</td>\n",
       "      <td>Florence</td>\n",
       "    </tr>\n",
       "    <tr>\n",
       "      <th>2</th>\n",
       "      <td>Alabama</td>\n",
       "      <td>Jacksonville</td>\n",
       "    </tr>\n",
       "    <tr>\n",
       "      <th>3</th>\n",
       "      <td>Alabama</td>\n",
       "      <td>Livingston</td>\n",
       "    </tr>\n",
       "    <tr>\n",
       "      <th>4</th>\n",
       "      <td>Alabama</td>\n",
       "      <td>Montevallo</td>\n",
       "    </tr>\n",
       "  </tbody>\n",
       "</table>\n",
       "</div>"
      ],
      "text/plain": [
       "     State    RegionName\n",
       "0  Alabama        Auburn\n",
       "1  Alabama      Florence\n",
       "2  Alabama  Jacksonville\n",
       "3  Alabama    Livingston\n",
       "4  Alabama    Montevallo"
      ]
     },
     "execution_count": 23,
     "metadata": {},
     "output_type": "execute_result"
    }
   ],
   "source": [
    "uni_towns_df = pd.DataFrame(columns=[\"State\", \"RegionName\"])\n",
    "for item in utown_list:\n",
    "    if '[edit]' in item:\n",
    "        state = item.split('[')[0] # For \"State\", removing characters from \"[\" to the end.\n",
    "    else:\n",
    "        # For \"RegionName\", when applicable, removing every character from \" (\" to the end.\n",
    "        region = item[0:(item.find('(')-1)]\n",
    "        new_region = pd.DataFrame([[state, region]], columns=['State', 'RegionName'])\n",
    "        uni_towns_df = uni_towns_df.append(new_region, ignore_index=True)\n",
    "\n",
    "uni_towns_df.head()"
   ]
  },
  {
   "cell_type": "markdown",
   "metadata": {},
   "source": [
    "## 2.6 Write dataframe into csv file\n",
    "Dataframes can be written into csv files with the <b>to_csv</b> function. Set <b>index</b> parameter to False to exclude the index column in the output csv file.<br/>\n",
    "<font color=\"red\"><b>df.to_csv('output.csv', index=False)</b></font>"
   ]
  },
  {
   "cell_type": "markdown",
   "metadata": {},
   "source": [
    "E.g. Export the dataframe of the university towns into 'utown.csv' without index."
   ]
  },
  {
   "cell_type": "code",
   "execution_count": 24,
   "metadata": {
    "collapsed": true
   },
   "outputs": [],
   "source": [
    "uni_towns_df.to_csv('utown.csv', index=False)"
   ]
  }
 ],
 "metadata": {
  "kernelspec": {
   "display_name": "Python 3",
   "language": "python",
   "name": "python3"
  },
  "language_info": {
   "codemirror_mode": {
    "name": "ipython",
    "version": 3
   },
   "file_extension": ".py",
   "mimetype": "text/x-python",
   "name": "python",
   "nbconvert_exporter": "python",
   "pygments_lexer": "ipython3",
   "version": "3.6.2"
  }
 },
 "nbformat": 4,
 "nbformat_minor": 2
}
