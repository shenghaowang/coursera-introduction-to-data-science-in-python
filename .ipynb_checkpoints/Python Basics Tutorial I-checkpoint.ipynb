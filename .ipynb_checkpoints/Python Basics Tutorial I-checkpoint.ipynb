{
 "cells": [
  {
   "cell_type": "markdown",
   "metadata": {},
   "source": [
    "# I. Basic Data Structures\n",
    "The basic data structures in Python include <b>tuple, list, string, dictionary</b>. The manipulation of these data structures is summarized in this section. The manipulation technics of the more complex data structure, <b>series, dataframe, and array</b> will be introduced in the subsequent sections!<br/><br/>\n",
    "The data type of variables can be identified with <font color='red'><b>type</b></font> function, i.e. <font color='red'><b>type(variable)</b></font>. Take note that checking the data type of variables might be very helpful in debugging!"
   ]
  },
  {
   "cell_type": "code",
   "execution_count": 26,
   "metadata": {},
   "outputs": [
    {
     "data": {
      "text/plain": [
       "str"
      ]
     },
     "execution_count": 26,
     "metadata": {},
     "output_type": "execute_result"
    }
   ],
   "source": [
    "type('This is a string')"
   ]
  },
  {
   "cell_type": "code",
   "execution_count": 4,
   "metadata": {},
   "outputs": [
    {
     "data": {
      "text/plain": [
       "list"
      ]
     },
     "execution_count": 4,
     "metadata": {},
     "output_type": "execute_result"
    }
   ],
   "source": [
    "type([1, 2, 3])"
   ]
  },
  {
   "cell_type": "markdown",
   "metadata": {},
   "source": [
    "## 1.1 Tuple (not frequently used)\n",
    "1. Tuples are an immutable data structure. The elements in a tuple cannot be altered once it is declared. No element can be added to an existing tuple.<br/>\n",
    "2. Tuples are declared by including the elements within <font color='red'><b>( )</b></font>.<br/>\n",
    "3. Different types of data can be put in a tuple.<br/>\n",
    "4. Element in a tuple can be accessed with index, i.e. <font color='red'><b>tuple(index)</b></font>. Index starts from 0."
   ]
  },
  {
   "cell_type": "markdown",
   "metadata": {},
   "source": [
    "E.g.1 Declare a tuple and access its 2nd element."
   ]
  },
  {
   "cell_type": "code",
   "execution_count": 12,
   "metadata": {},
   "outputs": [
    {
     "data": {
      "text/plain": [
       "'a'"
      ]
     },
     "execution_count": 12,
     "metadata": {},
     "output_type": "execute_result"
    }
   ],
   "source": [
    "x = (1, 'a', 2, 'b')\n",
    "x[1]"
   ]
  },
  {
   "cell_type": "markdown",
   "metadata": {},
   "source": [
    "E.g.2 Unpack a tuple/list into different variables. Make sure the number of values to be unpacked matches the number of variables being assigned."
   ]
  },
  {
   "cell_type": "code",
   "execution_count": 60,
   "metadata": {},
   "outputs": [
    {
     "data": {
      "text/plain": [
       "'Brooks'"
      ]
     },
     "execution_count": 60,
     "metadata": {},
     "output_type": "execute_result"
    }
   ],
   "source": [
    "x = ('Christopher', 'Brooks', 'brooksch@umich.edu')\n",
    "fname, lname, email = x\n",
    "lname"
   ]
  },
  {
   "cell_type": "markdown",
   "metadata": {},
   "source": [
    "## 1.2 List\n",
    "1. Lists are a mutable data structure. It is similar to the vector in R.\n",
    "2. Lists are declared by including the elements within <font color='red'><b>[ ]</b></font>.<br/>\n",
    "3. Different types of data can be put in a list.<br/>\n",
    "4. Element in a list can be accessed with index, i.e. <font color='red'><b>list[index]</b></font>. Index starts from 0.<br/>\n",
    "5. New element can be added to list with the <b>append</b> function, i.e. <font color='red'><b>list.append(new_element)</b></font>.<br/>\n",
    "6. Multiple lists can be concatenated with <b>\"+\"</b> or <b>\"`*`\"</b> operator, i.e. <font color='red'><b>list1 + list2, list `*` n</b></font>.<br/>\n",
    "7. The list elements can be viewed by <font color='red'><b>print(list)</b></font>.<br/>\n",
    "8. The number of elements in a list can be obtained by <font color='red'><b>len(list)</b></font> function.<br/>\n",
    "9. Existence of element in a list can be checked with <b>in</b> operator, i.e. <font color='red'><b>element in list</b></font>."
   ]
  },
  {
   "cell_type": "markdown",
   "metadata": {},
   "source": [
    "E.g.1 Declare a list, append element to list, and print the elements in list."
   ]
  },
  {
   "cell_type": "code",
   "execution_count": 13,
   "metadata": {},
   "outputs": [
    {
     "name": "stdout",
     "output_type": "stream",
     "text": [
      "[1, 'a', 2, 'b', 3.3]\n"
     ]
    }
   ],
   "source": [
    "x = [1, 'a', 2, 'b']\n",
    "y = [] # Declare an empty list\n",
    "x.append(3.3)\n",
    "print(x)"
   ]
  },
  {
   "cell_type": "markdown",
   "metadata": {},
   "source": [
    "E.g.2 Loop through and print each item in the list."
   ]
  },
  {
   "cell_type": "code",
   "execution_count": 16,
   "metadata": {},
   "outputs": [
    {
     "name": "stdout",
     "output_type": "stream",
     "text": [
      "1\n",
      "a\n",
      "2\n",
      "b\n",
      "3.3\n"
     ]
    }
   ],
   "source": [
    "for item in x:\n",
    "    print(item)"
   ]
  },
  {
   "cell_type": "markdown",
   "metadata": {},
   "source": [
    "E.g.3 Loop through each item using the indexing operator."
   ]
  },
  {
   "cell_type": "code",
   "execution_count": 18,
   "metadata": {},
   "outputs": [
    {
     "name": "stdout",
     "output_type": "stream",
     "text": [
      "1\n",
      "a\n",
      "2\n",
      "b\n",
      "3.3\n"
     ]
    }
   ],
   "source": [
    "i = 0\n",
    "while( i != len(x) ):\n",
    "    print(x[i])\n",
    "    i = i + 1"
   ]
  },
  {
   "cell_type": "markdown",
   "metadata": {},
   "source": [
    "E.g.4 Concatenate lists with \"+\" operator."
   ]
  },
  {
   "cell_type": "code",
   "execution_count": 20,
   "metadata": {},
   "outputs": [
    {
     "data": {
      "text/plain": [
       "[1, 2, 3, 4]"
      ]
     },
     "execution_count": 20,
     "metadata": {},
     "output_type": "execute_result"
    }
   ],
   "source": [
    "[1, 2] + [3, 4]"
   ]
  },
  {
   "cell_type": "markdown",
   "metadata": {},
   "source": [
    "E.g.5 Repeat lists \"`*`\" operator."
   ]
  },
  {
   "cell_type": "code",
   "execution_count": 22,
   "metadata": {},
   "outputs": [
    {
     "data": {
      "text/plain": [
       "[1, 1, 1]"
      ]
     },
     "execution_count": 22,
     "metadata": {},
     "output_type": "execute_result"
    }
   ],
   "source": [
    "[1] * 3"
   ]
  },
  {
   "cell_type": "markdown",
   "metadata": {},
   "source": [
    "E.g.6 Check existence of element in a list. A boolean result is returned."
   ]
  },
  {
   "cell_type": "code",
   "execution_count": 24,
   "metadata": {},
   "outputs": [
    {
     "data": {
      "text/plain": [
       "True"
      ]
     },
     "execution_count": 24,
     "metadata": {},
     "output_type": "execute_result"
    }
   ],
   "source": [
    "1 in [1, 2, 3]"
   ]
  },
  {
   "cell_type": "markdown",
   "metadata": {},
   "source": [
    "## 1.3 String (list with character elements)\n",
    "String is considered as a special type of list with character elements. <b>All the list manipulation in Section 1.2 can be applied to strings. The following string slicing manipulations are also applicable to the normal lists.</b> Some string-specific technics include<br/>\n",
    "1. Split a string with <b>split</b> function on specifc character into a list of substrings, i.e. <font color=\"red\"><b>string.split(\"character\")</b></font><br/>\n",
    "2. Convert other data type to string by <font color=\"red\"><b>str(variable)</b></font>."
   ]
  },
  {
   "cell_type": "markdown",
   "metadata": {},
   "source": [
    "E.g.1 Slice string with indexing operator, i.e. <font color=\"red\"><b>string[starting index:stopping index]<b/><font/>"
   ]
  },
  {
   "cell_type": "code",
   "execution_count": 30,
   "metadata": {},
   "outputs": [
    {
     "name": "stdout",
     "output_type": "stream",
     "text": [
      "T\n",
      "T\n",
      "Th\n",
      "g\n",
      "ri\n",
      "Thi\n",
      "s is a string\n"
     ]
    }
   ],
   "source": [
    "x = 'This is a string'\n",
    "print(x[0]) # first character\n",
    "print(x[0:1]) # first character, but we have explicitly set the end character\n",
    "print(x[0:2]) # first two characters\n",
    "print(x[-1]) # last character of the string\n",
    "print(x[-4:-2]) # slice starting from the 4th element from the end and stopping before the 2nd element from the end\n",
    "print(x[:3]) # slice from the beginning of the string and stopping before the 3rd element\n",
    "print(x[3:]) # slice starting from the 3rd element of the string and going all the way to the end"
   ]
  },
  {
   "cell_type": "markdown",
   "metadata": {},
   "source": [
    "E.g.2 Concatenate strings with \"+\" or \"`*`\" operator, check existence of substring with the \"in\" operator."
   ]
  },
  {
   "cell_type": "code",
   "execution_count": 35,
   "metadata": {},
   "outputs": [
    {
     "name": "stdout",
     "output_type": "stream",
     "text": [
      "Christopher Brooks\n",
      "ChristopherChristopherChristopher\n",
      "True\n"
     ]
    }
   ],
   "source": [
    "firstname = 'Christopher'\n",
    "lastname = 'Brooks'\n",
    "\n",
    "print(firstname + ' ' + lastname)\n",
    "print(firstname*3)\n",
    "print('Chris' in firstname)"
   ]
  },
  {
   "cell_type": "markdown",
   "metadata": {},
   "source": [
    "E.g.3 Split string into a list of substrings on space or a specific letter."
   ]
  },
  {
   "cell_type": "code",
   "execution_count": 42,
   "metadata": {},
   "outputs": [
    {
     "name": "stdout",
     "output_type": "stream",
     "text": [
      "['Christopher', 'Arthur', 'Hansen', 'Brooks']\n",
      "Christoph\n",
      "n Brooks\n"
     ]
    }
   ],
   "source": [
    "namelist = 'Christopher Arthur Hansen Brooks'.split()\n",
    "firstname = 'Christopher Arthur Hansen Brooks'.split('e')[0] # [0] selects the first element of the list\n",
    "lastname = 'Christopher Arthur Hansen Brooks'.split('e')[-1] # [-1] selects the last element of the list\n",
    "print(namelist)\n",
    "print(firstname)\n",
    "print(lastname)"
   ]
  },
  {
   "cell_type": "markdown",
   "metadata": {},
   "source": [
    "E.g.4 Convert objects to strings before concatenating."
   ]
  },
  {
   "cell_type": "code",
   "execution_count": 43,
   "metadata": {},
   "outputs": [
    {
     "data": {
      "text/plain": [
       "'Chris2'"
      ]
     },
     "execution_count": 43,
     "metadata": {},
     "output_type": "execute_result"
    }
   ],
   "source": [
    "'Chris' + str(2)"
   ]
  },
  {
   "cell_type": "markdown",
   "metadata": {},
   "source": [
    "## 1.4 Dictionary\n",
    "1. Dictionaries associate keys with values. They are declared by including the pairs of key and value within { }, i.e. <font color=\"red\"><b>dict = {key1: value1, key2: value2}</b></font>.<br/>\n",
    "2. Dictionary value can be accessed with a key, i.e. <font color=\"red\"><b>dict[key1]</b></font>.<br/>\n",
    "3. Dictionary can be extended by providing additional pairs of key and value, i.e. <font color=\"red\"><b>dict[key3] = value3</b></font>.</br>\n",
    "4. Dictionary keys, values, key-value pairs can be accessed by <font color=\"red\"><b>dict.keys(), dict.values(), dict.items()</b></font> respectively."
   ]
  },
  {
   "cell_type": "markdown",
   "metadata": {},
   "source": [
    "E.g.1 Declare a dictionary for names and emails, access the email address with given game."
   ]
  },
  {
   "cell_type": "code",
   "execution_count": 44,
   "metadata": {},
   "outputs": [
    {
     "data": {
      "text/plain": [
       "'brooksch@umich.edu'"
      ]
     },
     "execution_count": 44,
     "metadata": {},
     "output_type": "execute_result"
    }
   ],
   "source": [
    "x = {'Christopher Brooks': 'brooksch@umich.edu', 'Bill Gates': 'billg@microsoft.com'}\n",
    "x['Christopher Brooks']"
   ]
  },
  {
   "cell_type": "markdown",
   "metadata": {},
   "source": [
    "E.g.2 Extend the dictionary with additional pair of key and value."
   ]
  },
  {
   "cell_type": "code",
   "execution_count": 56,
   "metadata": {},
   "outputs": [
    {
     "data": {
      "text/plain": [
       "{'Bill Gates': 'billg@microsoft.com',\n",
       " 'Christopher Brooks': 'brooksch@umich.edu',\n",
       " 'Wang Shenghao': 'wangshenghao1993@gmail.com'}"
      ]
     },
     "execution_count": 56,
     "metadata": {},
     "output_type": "execute_result"
    }
   ],
   "source": [
    "x['Wang Shenghao'] = 'wangshenghao1993@gmail.com'\n",
    "x"
   ]
  },
  {
   "cell_type": "markdown",
   "metadata": {},
   "source": [
    "E.g.3 Iterate over all of the names as keys, print each email values."
   ]
  },
  {
   "cell_type": "code",
   "execution_count": 50,
   "metadata": {},
   "outputs": [
    {
     "name": "stdout",
     "output_type": "stream",
     "text": [
      "brooksch@umich.edu\n",
      "billg@microsoft.com\n",
      "wangshenghao1993@gmail.com\n"
     ]
    }
   ],
   "source": [
    "for name in x:\n",
    "    print(x[name])"
   ]
  },
  {
   "cell_type": "markdown",
   "metadata": {},
   "source": [
    "E.g.4 Iterate over all of the email values."
   ]
  },
  {
   "cell_type": "code",
   "execution_count": 52,
   "metadata": {},
   "outputs": [
    {
     "name": "stdout",
     "output_type": "stream",
     "text": [
      "brooksch@umich.edu\n",
      "billg@microsoft.com\n",
      "wangshenghao1993@gmail.com\n"
     ]
    }
   ],
   "source": [
    "for email in x.values():\n",
    "    print(email)"
   ]
  },
  {
   "cell_type": "markdown",
   "metadata": {},
   "source": [
    "E.g.5 Iterate over all of the items (pairs of key and value)"
   ]
  },
  {
   "cell_type": "code",
   "execution_count": 57,
   "metadata": {},
   "outputs": [
    {
     "name": "stdout",
     "output_type": "stream",
     "text": [
      "Christopher Brooks\n",
      "brooksch@umich.edu\n",
      "Bill Gates\n",
      "billg@microsoft.com\n",
      "Wang Shenghao\n",
      "wangshenghao1993@gmail.com\n"
     ]
    }
   ],
   "source": [
    "for name, email in x.items():\n",
    "    print(name)\n",
    "    print(email)"
   ]
  },
  {
   "cell_type": "markdown",
   "metadata": {},
   "source": [
    "# II. Reading and Writing Data Files"
   ]
  },
  {
   "cell_type": "code",
   "execution_count": null,
   "metadata": {
    "collapsed": true
   },
   "outputs": [],
   "source": [
    "Data files with different formats can be imported to Python"
   ]
  }
 ],
 "metadata": {
  "kernelspec": {
   "display_name": "Python 3",
   "language": "python",
   "name": "python3"
  },
  "language_info": {
   "codemirror_mode": {
    "name": "ipython",
    "version": 3
   },
   "file_extension": ".py",
   "mimetype": "text/x-python",
   "name": "python",
   "nbconvert_exporter": "python",
   "pygments_lexer": "ipython3",
   "version": "3.6.2"
  }
 },
 "nbformat": 4,
 "nbformat_minor": 2
}
